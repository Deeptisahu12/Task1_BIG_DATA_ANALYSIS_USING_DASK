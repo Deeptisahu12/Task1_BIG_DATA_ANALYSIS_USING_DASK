{
 "cells": [
  {
   "cell_type": "code",
   "execution_count": 51,
   "id": "1cc641b7-9bcd-4d3d-8cd6-ced52d4df67c",
   "metadata": {},
   "outputs": [
    {
     "name": "stdout",
     "output_type": "stream",
     "text": [
      "Defaulting to user installation because normal site-packages is not writeable\n",
      "Requirement already satisfied: pip in c:\\users\\deepti\\appdata\\roaming\\python\\python312\\site-packages (25.0.1)\n"
     ]
    }
   ],
   "source": [
    "!python -m pip install --upgrade pip\n"
   ]
  },
  {
   "cell_type": "code",
   "execution_count": 52,
   "id": "a4e46239-8f0c-400d-9bbd-c27b0b3e5ad4",
   "metadata": {},
   "outputs": [
    {
     "name": "stdout",
     "output_type": "stream",
     "text": [
      "Defaulting to user installation because normal site-packages is not writeable\n",
      "Requirement already satisfied: dask in c:\\users\\deepti\\appdata\\roaming\\python\\python312\\site-packages (2025.2.0)\n",
      "Requirement already satisfied: click>=8.1 in c:\\programdata\\anaconda3\\lib\\site-packages (from dask) (8.1.7)\n",
      "Requirement already satisfied: cloudpickle>=3.0.0 in c:\\users\\deepti\\appdata\\roaming\\python\\python312\\site-packages (from dask) (3.1.1)\n",
      "Requirement already satisfied: fsspec>=2021.09.0 in c:\\programdata\\anaconda3\\lib\\site-packages (from dask) (2024.3.1)\n",
      "Requirement already satisfied: packaging>=20.0 in c:\\programdata\\anaconda3\\lib\\site-packages (from dask) (23.2)\n",
      "Requirement already satisfied: partd>=1.4.0 in c:\\programdata\\anaconda3\\lib\\site-packages (from dask) (1.4.1)\n",
      "Requirement already satisfied: pyyaml>=5.3.1 in c:\\programdata\\anaconda3\\lib\\site-packages (from dask) (6.0.1)\n",
      "Requirement already satisfied: toolz>=0.10.0 in c:\\programdata\\anaconda3\\lib\\site-packages (from dask) (0.12.0)\n",
      "Requirement already satisfied: colorama in c:\\programdata\\anaconda3\\lib\\site-packages (from click>=8.1->dask) (0.4.6)\n",
      "Requirement already satisfied: locket in c:\\programdata\\anaconda3\\lib\\site-packages (from partd>=1.4.0->dask) (1.0.0)\n"
     ]
    }
   ],
   "source": [
    "!pip install dask\n"
   ]
  },
  {
   "cell_type": "code",
   "execution_count": 53,
   "id": "8d6d82c9-eac5-4e6e-ba8f-acee2edc4bb0",
   "metadata": {},
   "outputs": [
    {
     "name": "stdout",
     "output_type": "stream",
     "text": [
      "Defaulting to user installation because normal site-packages is not writeable\n",
      "Requirement already satisfied: dask[distributed] in c:\\users\\deepti\\appdata\\roaming\\python\\python312\\site-packages (2025.2.0)\n",
      "Requirement already satisfied: click>=8.1 in c:\\programdata\\anaconda3\\lib\\site-packages (from dask[distributed]) (8.1.7)\n",
      "Requirement already satisfied: cloudpickle>=3.0.0 in c:\\users\\deepti\\appdata\\roaming\\python\\python312\\site-packages (from dask[distributed]) (3.1.1)\n",
      "Requirement already satisfied: fsspec>=2021.09.0 in c:\\programdata\\anaconda3\\lib\\site-packages (from dask[distributed]) (2024.3.1)\n",
      "Requirement already satisfied: packaging>=20.0 in c:\\programdata\\anaconda3\\lib\\site-packages (from dask[distributed]) (23.2)\n",
      "Requirement already satisfied: partd>=1.4.0 in c:\\programdata\\anaconda3\\lib\\site-packages (from dask[distributed]) (1.4.1)\n",
      "Requirement already satisfied: pyyaml>=5.3.1 in c:\\programdata\\anaconda3\\lib\\site-packages (from dask[distributed]) (6.0.1)\n",
      "Requirement already satisfied: toolz>=0.10.0 in c:\\programdata\\anaconda3\\lib\\site-packages (from dask[distributed]) (0.12.0)\n",
      "Requirement already satisfied: distributed==2025.2.0 in c:\\users\\deepti\\appdata\\roaming\\python\\python312\\site-packages (from dask[distributed]) (2025.2.0)\n",
      "Requirement already satisfied: jinja2>=2.10.3 in c:\\programdata\\anaconda3\\lib\\site-packages (from distributed==2025.2.0->dask[distributed]) (3.1.4)\n",
      "Requirement already satisfied: locket>=1.0.0 in c:\\programdata\\anaconda3\\lib\\site-packages (from distributed==2025.2.0->dask[distributed]) (1.0.0)\n",
      "Requirement already satisfied: msgpack>=1.0.2 in c:\\programdata\\anaconda3\\lib\\site-packages (from distributed==2025.2.0->dask[distributed]) (1.0.3)\n",
      "Requirement already satisfied: psutil>=5.8.0 in c:\\programdata\\anaconda3\\lib\\site-packages (from distributed==2025.2.0->dask[distributed]) (5.9.0)\n",
      "Requirement already satisfied: sortedcontainers>=2.0.5 in c:\\programdata\\anaconda3\\lib\\site-packages (from distributed==2025.2.0->dask[distributed]) (2.4.0)\n",
      "Requirement already satisfied: tblib>=1.6.0 in c:\\programdata\\anaconda3\\lib\\site-packages (from distributed==2025.2.0->dask[distributed]) (1.7.0)\n",
      "Requirement already satisfied: tornado>=6.2.0 in c:\\programdata\\anaconda3\\lib\\site-packages (from distributed==2025.2.0->dask[distributed]) (6.4.1)\n",
      "Requirement already satisfied: urllib3>=1.26.5 in c:\\programdata\\anaconda3\\lib\\site-packages (from distributed==2025.2.0->dask[distributed]) (2.2.2)\n",
      "Requirement already satisfied: zict>=3.0.0 in c:\\programdata\\anaconda3\\lib\\site-packages (from distributed==2025.2.0->dask[distributed]) (3.0.0)\n",
      "Requirement already satisfied: colorama in c:\\programdata\\anaconda3\\lib\\site-packages (from click>=8.1->dask[distributed]) (0.4.6)\n",
      "Requirement already satisfied: MarkupSafe>=2.0 in c:\\programdata\\anaconda3\\lib\\site-packages (from jinja2>=2.10.3->distributed==2025.2.0->dask[distributed]) (2.1.3)\n"
     ]
    }
   ],
   "source": [
    "!pip install dask[distributed]\n"
   ]
  },
  {
   "cell_type": "code",
   "execution_count": 55,
   "id": "e6a0a1c9-09d3-496b-a4c3-224c6766b0af",
   "metadata": {},
   "outputs": [
    {
     "name": "stdout",
     "output_type": "stream",
     "text": [
      "Defaulting to user installation because normal site-packages is not writeable\n",
      "Requirement already satisfied: dask[dataframe] in c:\\users\\deepti\\appdata\\roaming\\python\\python312\\site-packages (2025.2.0)\n",
      "Requirement already satisfied: click>=8.1 in c:\\programdata\\anaconda3\\lib\\site-packages (from dask[dataframe]) (8.1.7)\n",
      "Requirement already satisfied: cloudpickle>=3.0.0 in c:\\users\\deepti\\appdata\\roaming\\python\\python312\\site-packages (from dask[dataframe]) (3.1.1)\n",
      "Requirement already satisfied: fsspec>=2021.09.0 in c:\\programdata\\anaconda3\\lib\\site-packages (from dask[dataframe]) (2024.3.1)\n",
      "Requirement already satisfied: packaging>=20.0 in c:\\programdata\\anaconda3\\lib\\site-packages (from dask[dataframe]) (23.2)\n",
      "Requirement already satisfied: partd>=1.4.0 in c:\\programdata\\anaconda3\\lib\\site-packages (from dask[dataframe]) (1.4.1)\n",
      "Requirement already satisfied: pyyaml>=5.3.1 in c:\\programdata\\anaconda3\\lib\\site-packages (from dask[dataframe]) (6.0.1)\n",
      "Requirement already satisfied: toolz>=0.10.0 in c:\\programdata\\anaconda3\\lib\\site-packages (from dask[dataframe]) (0.12.0)\n",
      "Requirement already satisfied: pandas>=2.0 in c:\\users\\deepti\\appdata\\roaming\\python\\python312\\site-packages (from dask[dataframe]) (2.2.2)\n",
      "Requirement already satisfied: pyarrow>=14.0.1 in c:\\programdata\\anaconda3\\lib\\site-packages (from dask[dataframe]) (14.0.2)\n",
      "Requirement already satisfied: colorama in c:\\programdata\\anaconda3\\lib\\site-packages (from click>=8.1->dask[dataframe]) (0.4.6)\n",
      "Requirement already satisfied: numpy>=1.26.0 in c:\\users\\deepti\\appdata\\roaming\\python\\python312\\site-packages (from pandas>=2.0->dask[dataframe]) (1.26.4)\n",
      "Requirement already satisfied: python-dateutil>=2.8.2 in c:\\users\\deepti\\appdata\\roaming\\python\\python312\\site-packages (from pandas>=2.0->dask[dataframe]) (2.9.0.post0)\n",
      "Requirement already satisfied: pytz>=2020.1 in c:\\users\\deepti\\appdata\\roaming\\python\\python312\\site-packages (from pandas>=2.0->dask[dataframe]) (2024.1)\n",
      "Requirement already satisfied: tzdata>=2022.7 in c:\\users\\deepti\\appdata\\roaming\\python\\python312\\site-packages (from pandas>=2.0->dask[dataframe]) (2024.1)\n",
      "Requirement already satisfied: locket in c:\\programdata\\anaconda3\\lib\\site-packages (from partd>=1.4.0->dask[dataframe]) (1.0.0)\n",
      "Requirement already satisfied: six>=1.5 in c:\\users\\deepti\\appdata\\roaming\\python\\python312\\site-packages (from python-dateutil>=2.8.2->pandas>=2.0->dask[dataframe]) (1.16.0)\n"
     ]
    }
   ],
   "source": [
    "!pip install \"dask[dataframe]\""
   ]
  },
  {
   "cell_type": "code",
   "execution_count": 56,
   "id": "06d21710-753f-45fe-8104-702d7bfb428b",
   "metadata": {},
   "outputs": [
    {
     "name": "stdout",
     "output_type": "stream",
     "text": [
      "Defaulting to user installation because normal site-packages is not writeable\n",
      "Requirement already satisfied: dask[complete] in c:\\users\\deepti\\appdata\\roaming\\python\\python312\\site-packages (2025.2.0)\n",
      "Requirement already satisfied: click>=8.1 in c:\\programdata\\anaconda3\\lib\\site-packages (from dask[complete]) (8.1.7)\n",
      "Requirement already satisfied: cloudpickle>=3.0.0 in c:\\users\\deepti\\appdata\\roaming\\python\\python312\\site-packages (from dask[complete]) (3.1.1)\n",
      "Requirement already satisfied: fsspec>=2021.09.0 in c:\\programdata\\anaconda3\\lib\\site-packages (from dask[complete]) (2024.3.1)\n",
      "Requirement already satisfied: packaging>=20.0 in c:\\programdata\\anaconda3\\lib\\site-packages (from dask[complete]) (23.2)\n",
      "Requirement already satisfied: partd>=1.4.0 in c:\\programdata\\anaconda3\\lib\\site-packages (from dask[complete]) (1.4.1)\n",
      "Requirement already satisfied: pyyaml>=5.3.1 in c:\\programdata\\anaconda3\\lib\\site-packages (from dask[complete]) (6.0.1)\n",
      "Requirement already satisfied: toolz>=0.10.0 in c:\\programdata\\anaconda3\\lib\\site-packages (from dask[complete]) (0.12.0)\n",
      "Requirement already satisfied: pyarrow>=14.0.1 in c:\\programdata\\anaconda3\\lib\\site-packages (from dask[complete]) (14.0.2)\n",
      "Requirement already satisfied: lz4>=4.3.2 in c:\\programdata\\anaconda3\\lib\\site-packages (from dask[complete]) (4.3.2)\n",
      "Requirement already satisfied: colorama in c:\\programdata\\anaconda3\\lib\\site-packages (from click>=8.1->dask[complete]) (0.4.6)\n",
      "Requirement already satisfied: locket in c:\\programdata\\anaconda3\\lib\\site-packages (from partd>=1.4.0->dask[complete]) (1.0.0)\n",
      "Requirement already satisfied: numpy>=1.16.6 in c:\\users\\deepti\\appdata\\roaming\\python\\python312\\site-packages (from pyarrow>=14.0.1->dask[complete]) (1.26.4)\n",
      "Requirement already satisfied: pandas>=2.0 in c:\\users\\deepti\\appdata\\roaming\\python\\python312\\site-packages (from dask[complete]) (2.2.2)\n",
      "Requirement already satisfied: distributed==2025.2.0 in c:\\users\\deepti\\appdata\\roaming\\python\\python312\\site-packages (from dask[complete]) (2025.2.0)\n",
      "Requirement already satisfied: bokeh>=3.1.0 in c:\\programdata\\anaconda3\\lib\\site-packages (from dask[complete]) (3.4.1)\n",
      "Requirement already satisfied: jinja2>=2.10.3 in c:\\programdata\\anaconda3\\lib\\site-packages (from dask[complete]) (3.1.4)\n",
      "Requirement already satisfied: msgpack>=1.0.2 in c:\\programdata\\anaconda3\\lib\\site-packages (from distributed==2025.2.0->dask[complete]) (1.0.3)\n",
      "Requirement already satisfied: psutil>=5.8.0 in c:\\programdata\\anaconda3\\lib\\site-packages (from distributed==2025.2.0->dask[complete]) (5.9.0)\n",
      "Requirement already satisfied: sortedcontainers>=2.0.5 in c:\\programdata\\anaconda3\\lib\\site-packages (from distributed==2025.2.0->dask[complete]) (2.4.0)\n",
      "Requirement already satisfied: tblib>=1.6.0 in c:\\programdata\\anaconda3\\lib\\site-packages (from distributed==2025.2.0->dask[complete]) (1.7.0)\n",
      "Requirement already satisfied: tornado>=6.2.0 in c:\\programdata\\anaconda3\\lib\\site-packages (from distributed==2025.2.0->dask[complete]) (6.4.1)\n",
      "Requirement already satisfied: urllib3>=1.26.5 in c:\\programdata\\anaconda3\\lib\\site-packages (from distributed==2025.2.0->dask[complete]) (2.2.2)\n",
      "Requirement already satisfied: zict>=3.0.0 in c:\\programdata\\anaconda3\\lib\\site-packages (from distributed==2025.2.0->dask[complete]) (3.0.0)\n",
      "Requirement already satisfied: contourpy>=1.2 in c:\\programdata\\anaconda3\\lib\\site-packages (from bokeh>=3.1.0->dask[complete]) (1.2.0)\n",
      "Requirement already satisfied: pillow>=7.1.0 in c:\\programdata\\anaconda3\\lib\\site-packages (from bokeh>=3.1.0->dask[complete]) (10.3.0)\n",
      "Requirement already satisfied: xyzservices>=2021.09.1 in c:\\programdata\\anaconda3\\lib\\site-packages (from bokeh>=3.1.0->dask[complete]) (2022.9.0)\n",
      "Requirement already satisfied: MarkupSafe>=2.0 in c:\\programdata\\anaconda3\\lib\\site-packages (from jinja2>=2.10.3->dask[complete]) (2.1.3)\n",
      "Requirement already satisfied: python-dateutil>=2.8.2 in c:\\users\\deepti\\appdata\\roaming\\python\\python312\\site-packages (from pandas>=2.0->dask[complete]) (2.9.0.post0)\n",
      "Requirement already satisfied: pytz>=2020.1 in c:\\users\\deepti\\appdata\\roaming\\python\\python312\\site-packages (from pandas>=2.0->dask[complete]) (2024.1)\n",
      "Requirement already satisfied: tzdata>=2022.7 in c:\\users\\deepti\\appdata\\roaming\\python\\python312\\site-packages (from pandas>=2.0->dask[complete]) (2024.1)\n",
      "Requirement already satisfied: six>=1.5 in c:\\users\\deepti\\appdata\\roaming\\python\\python312\\site-packages (from python-dateutil>=2.8.2->pandas>=2.0->dask[complete]) (1.16.0)\n"
     ]
    }
   ],
   "source": [
    "!pip install \"dask[complete]\""
   ]
  },
  {
   "cell_type": "code",
   "execution_count": 57,
   "id": "f5060259-413e-4376-8874-3dcb35dbf262",
   "metadata": {},
   "outputs": [
    {
     "name": "stdout",
     "output_type": "stream",
     "text": [
      "Name: dask\n",
      "Version: 2025.2.0\n",
      "Summary: Parallel PyData with Task Scheduling\n",
      "Home-page: https://github.com/dask/dask/\n",
      "Author: \n",
      "Author-email: \n",
      "License: BSD-3-Clause\n",
      "Location: C:\\Users\\Deepti\\AppData\\Roaming\\Python\\Python312\\site-packages\n",
      "Requires: click, cloudpickle, fsspec, packaging, partd, pyyaml, toolz\n",
      "Required-by: dask-expr, datashader, distributed, intake\n"
     ]
    }
   ],
   "source": [
    "!pip show dask"
   ]
  },
  {
   "cell_type": "code",
   "execution_count": 58,
   "id": "53fc3cb8-86df-4eec-b829-28ee31c67e7f",
   "metadata": {},
   "outputs": [
    {
     "data": {
      "text/plain": [
       "['.ipynb_checkpoints', 'sales_5000000.csv', 'Task1.ipynb']"
      ]
     },
     "execution_count": 58,
     "metadata": {},
     "output_type": "execute_result"
    }
   ],
   "source": [
    "os.listdir()"
   ]
  },
  {
   "cell_type": "code",
   "execution_count": 4,
   "id": "e638bc80-6f81-43fb-866f-5ed2dd8afb42",
   "metadata": {},
   "outputs": [
    {
     "name": "stdout",
     "output_type": "stream",
     "text": [
      "True\n"
     ]
    }
   ],
   "source": [
    "import os\n",
    "print(os.path.exists(r'C:\\Users\\Deepti\\Desktop\\study folder\\internship\\Task\\sales_5000000.csv'))\n"
   ]
  },
  {
   "cell_type": "code",
   "execution_count": 5,
   "id": "3f33a33c-dcc4-4d80-ab0d-99887020b78f",
   "metadata": {},
   "outputs": [],
   "source": [
    "try:\n",
    "    import os\n",
    "    import json\n",
    "    import math\n",
    "    import dask\n",
    "    from dask.distributed import Client\n",
    "    import dask.dataframe as dd\n",
    "    import numpy as np\n",
    "    import dask.multiprocessing\n",
    "except Exception as e:\n",
    "    print(\"Some Modules are Missing : {} \".format(e))"
   ]
  },
  {
   "cell_type": "code",
   "execution_count": 6,
   "id": "5bdf7cde-6fc0-449a-940c-03b6ce3f2e1c",
   "metadata": {},
   "outputs": [],
   "source": [
    "import dask.dataframe as dd\n"
   ]
  },
  {
   "cell_type": "code",
   "execution_count": 7,
   "id": "648e2525-7b68-4729-931d-bc8ac3f5f318",
   "metadata": {},
   "outputs": [],
   "source": [
    "df = dd.read_csv(r'C:\\Users\\Deepti\\Desktop\\study folder\\internship\\Task\\sales_5000000.csv')\n"
   ]
  },
  {
   "cell_type": "code",
   "execution_count": null,
   "id": "1fc80785-66be-4bcc-9708-cf1d167d2428",
   "metadata": {},
   "outputs": [],
   "source": [
    "print(df.head())"
   ]
  },
  {
   "cell_type": "code",
   "execution_count": 7,
   "id": "fd419eb5-b885-45cc-a1f5-ed9b512398c4",
   "metadata": {},
   "outputs": [
    {
     "name": "stdout",
     "output_type": "stream",
     "text": [
      "Region            string[pyarrow]\n",
      "Country           string[pyarrow]\n",
      "Item Type         string[pyarrow]\n",
      "Sales Channel     string[pyarrow]\n",
      "Order Priority    string[pyarrow]\n",
      "Order Date        string[pyarrow]\n",
      "Order ID                    int64\n",
      "Ship Date         string[pyarrow]\n",
      "Units Sold                  int64\n",
      "Unit Price                float64\n",
      "Unit Cost                 float64\n",
      "Total Revenue             float64\n",
      "Total Cost                float64\n",
      "Total Profit              float64\n",
      "dtype: object\n"
     ]
    }
   ],
   "source": [
    "print(df.dtypes)"
   ]
  },
  {
   "cell_type": "code",
   "execution_count": 8,
   "id": "854ea9dd-5278-4ae7-a92c-9bcbb255ff7c",
   "metadata": {},
   "outputs": [
    {
     "name": "stdout",
     "output_type": "stream",
     "text": [
      "Index(['Region', 'Country', 'Item Type', 'Sales Channel', 'Order Priority',\n",
      "       'Order Date', 'Order ID', 'Ship Date', 'Units Sold', 'Unit Price',\n",
      "       'Unit Cost', 'Total Revenue', 'Total Cost', 'Total Profit'],\n",
      "      dtype='object')\n",
      "columns: 14\n"
     ]
    }
   ],
   "source": [
    "print(df.columns)\n",
    "print(\"columns:\",df.shape[1])\n"
   ]
  },
  {
   "cell_type": "code",
   "execution_count": 9,
   "id": "0f31a0f3-ac19-41b1-a505-4d8ea47ca2eb",
   "metadata": {},
   "outputs": [
    {
     "name": "stdout",
     "output_type": "stream",
     "text": [
      "Rows: 5000000\n"
     ]
    }
   ],
   "source": [
    "print(\"Rows:\", df.shape[0].compute())\n"
   ]
  },
  {
   "cell_type": "code",
   "execution_count": 10,
   "id": "ccf98862-ae37-4366-b86d-295901ff0cd0",
   "metadata": {},
   "outputs": [
    {
     "name": "stdout",
     "output_type": "stream",
     "text": [
      "                              Region   Country        Item Type Sales Channel  \\\n",
      "0              Australia and Oceania     Palau  Office Supplies        Online   \n",
      "1                             Europe    Poland        Beverages        Online   \n",
      "2                      North America    Canada           Cereal        Online   \n",
      "3                             Europe   Belarus           Snacks        Online   \n",
      "4       Middle East and North Africa      Oman           Cereal       Offline   \n",
      "...                              ...       ...              ...           ...   \n",
      "555620                        Europe     Spain           Fruits        Online   \n",
      "555621                        Europe    Poland             Meat       Offline   \n",
      "555622                          Asia  Malaysia          Clothes        Online   \n",
      "555623                        Europe    Sweden        Baby Food        Online   \n",
      "555624                        Europe   Belarus           Fruits        Online   \n",
      "\n",
      "       Order Priority  Order Date   Order ID   Ship Date  Units Sold  \\\n",
      "0                   H  2020-03-06  517073523  2020-03-26        2401   \n",
      "1                   L  2014-04-18  380507028  2014-05-26        9340   \n",
      "2                   M  2019-01-08  504055583  2019-01-31         103   \n",
      "3                   C  2018-01-19  954955518  2018-02-27        1414   \n",
      "4                   H  2023-04-26  970755660  2023-06-02        7027   \n",
      "...               ...         ...        ...         ...         ...   \n",
      "555620              M  2020-02-28  403682601  2020-03-07        7507   \n",
      "555621              M  2023-07-23  230476701  2023-09-10        2032   \n",
      "555622              C  2014-08-10  712893664  2014-09-18        9932   \n",
      "555623              M  2020-06-15  849419820  2020-07-08        1056   \n",
      "555624              M  2021-08-11  608853995  2021-09-09        2282   \n",
      "\n",
      "        Unit Price  Unit Cost  Total Revenue  Total Cost  Total Profit  \n",
      "0           651.21     524.96     1563555.21  1260428.96     303126.25  \n",
      "1            47.45      31.79      443183.00   296918.60     146264.40  \n",
      "2           205.70     117.11       21187.10    12062.33       9124.77  \n",
      "3           152.58      97.44      215748.12   137780.16      77967.96  \n",
      "4           205.70     117.11     1445453.90   822931.97     622521.93  \n",
      "...            ...        ...            ...         ...           ...  \n",
      "555620        9.33       6.92       70040.31    51948.44      18091.87  \n",
      "555621      421.89     364.69      857280.48   741050.08     116230.40  \n",
      "555622      109.28      35.84     1085368.96   355962.88     729406.08  \n",
      "555623      255.28     159.42      269575.68   168347.52     101228.16  \n",
      "555624        9.33       6.92       21291.06    15791.44       5499.62  \n",
      "\n",
      "[555625 rows x 14 columns]\n",
      "                                   Region                           Country  \\\n",
      "0                      Sub-Saharan Africa                             Sudan   \n",
      "1                                    Asia                       Philippines   \n",
      "2       Central America and the Caribbean  Saint Vincent and the Grenadines   \n",
      "3       Central America and the Caribbean               Trinidad and Tobago   \n",
      "4                                    Asia                         Singapore   \n",
      "...                                   ...                               ...   \n",
      "555552       Middle East and North Africa                            Kuwait   \n",
      "555553       Middle East and North Africa                              Iran   \n",
      "555554  Central America and the Caribbean                Dominican Republic   \n",
      "555555                      North America                            Mexico   \n",
      "555556                               Asia                             Japan   \n",
      "\n",
      "              Item Type Sales Channel Order Priority  Order Date   Order ID  \\\n",
      "0       Office Supplies        Online              C  2021-06-27  480307519   \n",
      "1       Office Supplies       Offline              H  2019-08-27  123204219   \n",
      "2             Beverages        Online              C  2017-03-05  617280423   \n",
      "3               Clothes       Offline              H  2021-12-23  412584960   \n",
      "4       Office Supplies        Online              C  2022-02-04  279479157   \n",
      "...                 ...           ...            ...         ...        ...   \n",
      "555552             Meat       Offline              M  2014-10-13  682867944   \n",
      "555553          Clothes        Online              L  2022-12-17  497151362   \n",
      "555554           Snacks       Offline              M  2015-06-18  459489285   \n",
      "555555    Personal Care       Offline              C  2021-08-03  819930541   \n",
      "555556       Vegetables       Offline              M  2018-09-09  548836457   \n",
      "\n",
      "         Ship Date  Units Sold  Unit Price  Unit Cost  Total Revenue  \\\n",
      "0       2021-06-29        2523      651.21     524.96     1643002.83   \n",
      "1       2019-09-19        7721      651.21     524.96     5027992.41   \n",
      "2       2017-04-12        5849       47.45      31.79      277535.05   \n",
      "3       2022-01-21        1913      109.28      35.84      209052.64   \n",
      "4       2022-03-20        2948      651.21     524.96     1919767.08   \n",
      "...            ...         ...         ...        ...            ...   \n",
      "555552  2014-10-30        4654      421.89     364.69     1963476.06   \n",
      "555553  2022-12-26        6991      109.28      35.84      763976.48   \n",
      "555554  2015-06-30        1945      152.58      97.44      296768.10   \n",
      "555555  2021-08-12        4523       81.73      56.67      369664.79   \n",
      "555556  2018-10-27        1759      154.06      90.93      270991.54   \n",
      "\n",
      "        Total Cost  Total Profit  \n",
      "0       1324474.08     318528.75  \n",
      "1       4053216.16     974776.25  \n",
      "2        185939.71      91595.34  \n",
      "3         68561.92     140490.72  \n",
      "4       1547582.08     372185.00  \n",
      "...            ...           ...  \n",
      "555552  1697267.26     266208.80  \n",
      "555553   250557.44     513419.04  \n",
      "555554   189520.80     107247.30  \n",
      "555555   256318.41     113346.38  \n",
      "555556   159945.87     111045.67  \n",
      "\n",
      "[555557 rows x 14 columns]\n",
      "                                   Region     Country        Item Type  \\\n",
      "0                                  Europe     Romania        Beverages   \n",
      "1                                    Asia   Singapore    Personal Care   \n",
      "2       Central America and the Caribbean     Jamaica        Beverages   \n",
      "3       Central America and the Caribbean    Dominica           Cereal   \n",
      "4                   Australia and Oceania    Kiribati       Vegetables   \n",
      "...                                   ...         ...              ...   \n",
      "555493                             Europe    Bulgaria           Fruits   \n",
      "555494                             Europe     Iceland        Household   \n",
      "555495                               Asia    Mongolia  Office Supplies   \n",
      "555496                             Europe  Montenegro        Cosmetics   \n",
      "555497                             Europe     Georgia           Cereal   \n",
      "\n",
      "       Sales Channel Order Priority  Order Date   Order ID   Ship Date  \\\n",
      "0            Offline              M  2023-01-14  486880862  2023-01-24   \n",
      "1            Offline              C  2020-04-30  195050084  2020-06-15   \n",
      "2             Online              L  2024-07-04  204642951  2024-08-15   \n",
      "3            Offline              L  2018-12-03  667270791  2019-01-20   \n",
      "4             Online              M  2015-03-06  904857432  2015-03-07   \n",
      "...              ...            ...         ...        ...         ...   \n",
      "555493       Offline              H  2017-01-17  119122540  2017-01-26   \n",
      "555494       Offline              L  2016-01-03  151841628  2016-01-20   \n",
      "555495       Offline              L  2015-09-02  695603501  2015-09-27   \n",
      "555496       Offline              M  2017-08-12  903581988  2017-10-01   \n",
      "555497        Online              C  2014-03-19  449263417  2014-04-07   \n",
      "\n",
      "        Units Sold  Unit Price  Unit Cost  Total Revenue  Total Cost  \\\n",
      "0             7722       47.45      31.79      366408.90   245482.38   \n",
      "1             8509       81.73      56.67      695440.57   482205.03   \n",
      "2             7252       47.45      31.79      344107.40   230541.08   \n",
      "3             9110      205.70     117.11     1873927.00  1066872.10   \n",
      "4             6277      154.06      90.93      967034.62   570767.61   \n",
      "...            ...         ...        ...            ...         ...   \n",
      "555493        9862        9.33       6.92       92012.46    68245.04   \n",
      "555494        2167      668.27     502.54     1448141.09  1089004.18   \n",
      "555495        3389      651.21     524.96     2206950.69  1779089.44   \n",
      "555496        8845      437.20     263.33     3867034.00  2329153.85   \n",
      "555497        5884      205.70     117.11     1210338.80   689075.24   \n",
      "\n",
      "        Total Profit  \n",
      "0          120926.52  \n",
      "1          213235.54  \n",
      "2          113566.32  \n",
      "3          807054.90  \n",
      "4          396267.01  \n",
      "...              ...  \n",
      "555493      23767.42  \n",
      "555494     359136.91  \n",
      "555495     427861.25  \n",
      "555496    1537880.15  \n",
      "555497     521263.56  \n",
      "\n",
      "[555498 rows x 14 columns]\n",
      "                                   Region                 Country  \\\n",
      "0                                    Asia              Tajikistan   \n",
      "1                   Australia and Oceania              East Timor   \n",
      "2                                  Europe                  France   \n",
      "3                      Sub-Saharan Africa                 Senegal   \n",
      "4                                  Europe  Bosnia and Herzegovina   \n",
      "...                                   ...                     ...   \n",
      "555584       Middle East and North Africa                 Morocco   \n",
      "555585       Middle East and North Africa                  Turkey   \n",
      "555586  Central America and the Caribbean                Honduras   \n",
      "555587       Middle East and North Africa                   Yemen   \n",
      "555588  Central America and the Caribbean             The Bahamas   \n",
      "\n",
      "              Item Type Sales Channel Order Priority  Order Date   Order ID  \\\n",
      "0                  Meat        Online              H  2015-05-26  876446616   \n",
      "1         Personal Care       Offline              C  2021-11-26  649242913   \n",
      "2       Office Supplies       Offline              L  2019-12-07  102076137   \n",
      "3                Cereal       Offline              C  2018-07-27  989682614   \n",
      "4                  Meat       Offline              M  2023-01-24  637111175   \n",
      "...                 ...           ...            ...         ...        ...   \n",
      "555584        Baby Food        Online              C  2018-05-28  187837302   \n",
      "555585           Fruits       Offline              C  2014-06-22  346033990   \n",
      "555586  Office Supplies        Online              L  2022-12-12  310830104   \n",
      "555587        Baby Food        Online              C  2015-06-29  486961972   \n",
      "555588  Office Supplies       Offline              C  2024-02-01  449478423   \n",
      "\n",
      "         Ship Date  Units Sold  Unit Price  Unit Cost  Total Revenue  \\\n",
      "0       2015-05-27        8885      421.89     364.69     3748492.65   \n",
      "1       2021-12-24        4260       81.73      56.67      348169.80   \n",
      "2       2019-12-26        5452      651.21     524.96     3550396.92   \n",
      "3       2018-08-01        7933      205.70     117.11     1631818.10   \n",
      "4       2023-02-01        4209      421.89     364.69     1775735.01   \n",
      "...            ...         ...         ...        ...            ...   \n",
      "555584  2018-06-01        4087      255.28     159.42     1043329.36   \n",
      "555585  2014-08-03        8002        9.33       6.92       74658.66   \n",
      "555586  2023-01-03         390      651.21     524.96      253971.90   \n",
      "555587  2015-07-01        1724      255.28     159.42      440102.72   \n",
      "555588  2024-02-29        9509      651.21     524.96     6192355.89   \n",
      "\n",
      "        Total Cost  Total Profit  \n",
      "0       3240270.65     508222.00  \n",
      "1        241414.20     106755.60  \n",
      "2       2862081.92     688315.00  \n",
      "3        929033.63     702784.47  \n",
      "4       1534980.21     240754.80  \n",
      "...            ...           ...  \n",
      "555584   651549.54     391779.82  \n",
      "555585    55373.84      19284.82  \n",
      "555586   204734.40      49237.50  \n",
      "555587   274840.08     165262.64  \n",
      "555588  4991844.64    1200511.25  \n",
      "\n",
      "[555589 rows x 14 columns]\n",
      "                                   Region                         Country  \\\n",
      "0                      Sub-Saharan Africa                         Eritrea   \n",
      "1                                  Europe                          Poland   \n",
      "2            Middle East and North Africa                    Saudi Arabia   \n",
      "3                   Australia and Oceania                         Vanuatu   \n",
      "4       Central America and the Caribbean            Antigua and Barbuda    \n",
      "...                                   ...                             ...   \n",
      "555546                 Sub-Saharan Africa                       Swaziland   \n",
      "555547              Australia and Oceania  Federated States of Micronesia   \n",
      "555548                 Sub-Saharan Africa        Central African Republic   \n",
      "555549                 Sub-Saharan Africa                   Cote d'Ivoire   \n",
      "555550                             Europe                        Slovakia   \n",
      "\n",
      "        Item Type Sales Channel Order Priority  Order Date   Order ID  \\\n",
      "0       Baby Food        Online              C  2018-01-21  293740785   \n",
      "1          Fruits       Offline              L  2016-05-07  185422885   \n",
      "2          Cereal        Online              C  2018-01-12  810511052   \n",
      "3       Beverages       Offline              H  2018-04-29  225304114   \n",
      "4            Meat        Online              L  2024-08-25  606413400   \n",
      "...           ...           ...            ...         ...        ...   \n",
      "555546     Snacks       Offline              C  2021-04-21  824803578   \n",
      "555547     Cereal       Offline              H  2017-01-25  820443809   \n",
      "555548  Baby Food       Offline              L  2019-10-29  639822137   \n",
      "555549  Household       Offline              C  2015-10-10  617362391   \n",
      "555550     Cereal       Offline              M  2014-01-02  707800900   \n",
      "\n",
      "         Ship Date  Units Sold  Unit Price  Unit Cost  Total Revenue  \\\n",
      "0       2018-01-29        3281      255.28     159.42      837573.68   \n",
      "1       2016-06-18        9607        9.33       6.92       89633.31   \n",
      "2       2018-02-19        7087      205.70     117.11     1457795.90   \n",
      "3       2018-06-14        1349       47.45      31.79       64010.05   \n",
      "4       2024-09-21          56      421.89     364.69       23625.84   \n",
      "...            ...         ...         ...        ...            ...   \n",
      "555546  2021-06-06        6563      152.58      97.44     1001382.54   \n",
      "555547  2017-03-16        6410      205.70     117.11     1318537.00   \n",
      "555548  2019-11-17        6443      255.28     159.42     1644769.04   \n",
      "555549  2015-11-01         106      668.27     502.54       70836.62   \n",
      "555550  2014-02-13        2870      205.70     117.11      590359.00   \n",
      "\n",
      "        Total Cost  Total Profit  \n",
      "0        523057.02     314516.66  \n",
      "1         66480.44      23152.87  \n",
      "2        829958.57     627837.33  \n",
      "3         42884.71      21125.34  \n",
      "4         20422.64       3203.20  \n",
      "...            ...           ...  \n",
      "555546   639498.72     361883.82  \n",
      "555547   750675.10     567861.90  \n",
      "555548  1027143.06     617625.98  \n",
      "555549    53269.24      17567.38  \n",
      "555550   336105.70     254253.30  \n",
      "\n",
      "[555551 rows x 14 columns]\n",
      "                                   Region          Country  Item Type  \\\n",
      "0                      Sub-Saharan Africa          Senegal     Fruits   \n",
      "1       Central America and the Caribbean         Barbados  Beverages   \n",
      "2                      Sub-Saharan Africa            Gabon  Baby Food   \n",
      "3                                  Europe          Romania  Cosmetics   \n",
      "4                                    Asia        Sri Lanka  Cosmetics   \n",
      "...                                   ...              ...        ...   \n",
      "555547                 Sub-Saharan Africa             Togo  Cosmetics   \n",
      "555548                             Europe          Ukraine  Cosmetics   \n",
      "555549                               Asia         Cambodia     Fruits   \n",
      "555550              Australia and Oceania  Solomon Islands    Clothes   \n",
      "555551                 Sub-Saharan Africa     Sierra Leone       Meat   \n",
      "\n",
      "       Sales Channel Order Priority  Order Date   Order ID   Ship Date  \\\n",
      "0             Online              C  2019-10-06  936186492  2019-11-23   \n",
      "1             Online              H  2018-06-02  947880494  2018-06-28   \n",
      "2            Offline              C  2023-07-26  458556735  2023-09-11   \n",
      "3            Offline              M  2018-03-28  604201543  2018-05-15   \n",
      "4             Online              H  2024-05-20  791113746  2024-05-21   \n",
      "...              ...            ...         ...        ...         ...   \n",
      "555547       Offline              M  2016-02-17  949553334  2016-03-09   \n",
      "555548       Offline              M  2016-03-21  753592002  2016-03-28   \n",
      "555549        Online              M  2014-08-11  775118768  2014-09-24   \n",
      "555550        Online              L  2018-11-22  448557460  2019-01-08   \n",
      "555551        Online              L  2016-10-07  628644406  2016-10-08   \n",
      "\n",
      "        Units Sold  Unit Price  Unit Cost  Total Revenue  Total Cost  \\\n",
      "0             7242        9.33       6.92       67567.86    50114.64   \n",
      "1             7757       47.45      31.79      368069.65   246595.03   \n",
      "2             5983      255.28     159.42     1527340.24   953809.86   \n",
      "3             5518      437.20     263.33     2412469.60  1453054.94   \n",
      "4             6993      437.20     263.33     3057339.60  1841466.69   \n",
      "...            ...         ...        ...            ...         ...   \n",
      "555547        2788      437.20     263.33     1218913.60   734164.04   \n",
      "555548        3475      437.20     263.33     1519270.00   915071.75   \n",
      "555549        3723        9.33       6.92       34735.59    25763.16   \n",
      "555550        6975      109.28      35.84      762228.00   249984.00   \n",
      "555551        8705      421.89     364.69     3672552.45  3174626.45   \n",
      "\n",
      "        Total Profit  \n",
      "0           17453.22  \n",
      "1          121474.62  \n",
      "2          573530.38  \n",
      "3          959414.66  \n",
      "4         1215872.91  \n",
      "...              ...  \n",
      "555547     484749.56  \n",
      "555548     604198.25  \n",
      "555549       8972.43  \n",
      "555550     512244.00  \n",
      "555551     497926.00  \n",
      "\n",
      "[555552 rows x 14 columns]\n",
      "                                   Region      Country      Item Type  \\\n",
      "0                           North America       Mexico  Personal Care   \n",
      "1                      Sub-Saharan Africa     Ethiopia        Clothes   \n",
      "2       Central America and the Caribbean    Nicaragua      Baby Food   \n",
      "3            Middle East and North Africa        Libya        Clothes   \n",
      "4                      Sub-Saharan Africa       Zambia         Snacks   \n",
      "...                                   ...          ...            ...   \n",
      "555624                               Asia        China     Vegetables   \n",
      "555625                             Europe      Croatia      Cosmetics   \n",
      "555626                 Sub-Saharan Africa   Mauritania  Personal Care   \n",
      "555627       Middle East and North Africa         Iran         Cereal   \n",
      "555628                             Europe  Netherlands         Fruits   \n",
      "\n",
      "       Sales Channel Order Priority  Order Date   Order ID   Ship Date  \\\n",
      "0             Online              C  2024-03-06  440428435  2024-04-02   \n",
      "1            Offline              C  2015-10-17  429270875  2015-10-26   \n",
      "2             Online              C  2015-11-28  310845553  2015-12-16   \n",
      "3             Online              C  2018-03-30  321138799  2018-05-11   \n",
      "4             Online              C  2023-05-15  766449439  2023-05-17   \n",
      "...              ...            ...         ...        ...         ...   \n",
      "555624        Online              L  2019-10-27  644269454  2019-12-09   \n",
      "555625        Online              C  2014-05-10  458319413  2014-05-19   \n",
      "555626       Offline              H  2021-02-09  126429736  2021-02-20   \n",
      "555627       Offline              H  2019-02-04  897086751  2019-02-18   \n",
      "555628       Offline              C  2015-07-27  489089286  2015-08-19   \n",
      "\n",
      "        Units Sold  Unit Price  Unit Cost  Total Revenue  Total Cost  \\\n",
      "0             1416       81.73      56.67      115729.68    80244.72   \n",
      "1             9646      109.28      35.84     1054114.88   345712.64   \n",
      "2             4962      255.28     159.42     1266699.36   791042.04   \n",
      "3              962      109.28      35.84      105127.36    34478.08   \n",
      "4             8276      152.58      97.44     1262752.08   806413.44   \n",
      "...            ...         ...        ...            ...         ...   \n",
      "555624        2503      154.06      90.93      385612.18   227597.79   \n",
      "555625        5754      437.20     263.33     2515648.80  1515200.82   \n",
      "555626        2223       81.73      56.67      181685.79   125977.41   \n",
      "555627        6760      205.70     117.11     1390532.00   791663.60   \n",
      "555628        1243        9.33       6.92       11597.19     8601.56   \n",
      "\n",
      "        Total Profit  \n",
      "0           35484.96  \n",
      "1          708402.24  \n",
      "2          475657.32  \n",
      "3           70649.28  \n",
      "4          456338.64  \n",
      "...              ...  \n",
      "555624     158014.39  \n",
      "555625    1000447.98  \n",
      "555626      55708.38  \n",
      "555627     598868.40  \n",
      "555628       2995.63  \n",
      "\n",
      "[555629 rows x 14 columns]\n",
      "                                   Region               Country  \\\n",
      "0       Central America and the Caribbean  Antigua and Barbuda    \n",
      "1                      Sub-Saharan Africa               Nigeria   \n",
      "2                                  Europe           Switzerland   \n",
      "3            Middle East and North Africa                  Iran   \n",
      "4                                  Europe               Estonia   \n",
      "...                                   ...                   ...   \n",
      "555487  Central America and the Caribbean               Jamaica   \n",
      "555488                             Europe            Luxembourg   \n",
      "555489                             Europe               Ukraine   \n",
      "555490  Central America and the Caribbean           Saint Lucia   \n",
      "555491                 Sub-Saharan Africa              Zimbabwe   \n",
      "\n",
      "              Item Type Sales Channel Order Priority  Order Date   Order ID  \\\n",
      "0                  Meat       Offline              C  2019-04-14  741548669   \n",
      "1             Cosmetics       Offline              M  2024-06-17  863888728   \n",
      "2                  Meat        Online              L  2016-02-17  585845792   \n",
      "3                Snacks       Offline              M  2018-04-03  607468688   \n",
      "4             Cosmetics       Offline              L  2024-03-19  349118745   \n",
      "...                 ...           ...            ...         ...        ...   \n",
      "555487        Baby Food       Offline              L  2014-08-01  751621329   \n",
      "555488          Clothes       Offline              L  2017-08-13  726785790   \n",
      "555489  Office Supplies        Online              C  2015-08-05  417143428   \n",
      "555490        Household        Online              H  2020-04-12  902430570   \n",
      "555491       Vegetables       Offline              H  2018-03-18  632696044   \n",
      "\n",
      "         Ship Date  Units Sold  Unit Price  Unit Cost  Total Revenue  \\\n",
      "0       2019-04-22        9585      421.89     364.69     4043815.65   \n",
      "1       2024-07-11        2727      437.20     263.33     1192244.40   \n",
      "2       2016-03-31        3643      421.89     364.69     1536945.27   \n",
      "3       2018-04-24        2339      152.58      97.44      356884.62   \n",
      "4       2024-04-19         850      437.20     263.33      371620.00   \n",
      "...            ...         ...         ...        ...            ...   \n",
      "555487  2014-08-28         309      255.28     159.42       78881.52   \n",
      "555488  2017-09-15         921      109.28      35.84      100646.88   \n",
      "555489  2015-09-21         865      651.21     524.96      563296.65   \n",
      "555490  2020-04-24        8114      668.27     502.54     5422342.78   \n",
      "555491  2018-04-01        7674      154.06      90.93     1182256.44   \n",
      "\n",
      "        Total Cost  Total Profit  \n",
      "0       3495553.65     548262.00  \n",
      "1        718100.91     474143.49  \n",
      "2       1328565.67     208379.60  \n",
      "3        227912.16     128972.46  \n",
      "4        223830.50     147789.50  \n",
      "...            ...           ...  \n",
      "555487    49260.78      29620.74  \n",
      "555488    33008.64      67638.24  \n",
      "555489   454090.40     109206.25  \n",
      "555490  4077609.56    1344733.22  \n",
      "555491   697796.82     484459.62  \n",
      "\n",
      "[555492 rows x 14 columns]\n",
      "                              Region           Country        Item Type  \\\n",
      "0                             Europe           Croatia           Snacks   \n",
      "1       Middle East and North Africa           Somalia        Beverages   \n",
      "2              Australia and Oceania  Papua New Guinea           Snacks   \n",
      "3       Middle East and North Africa              Iran           Fruits   \n",
      "4                             Europe         Macedonia        Cosmetics   \n",
      "...                              ...               ...              ...   \n",
      "555502  Middle East and North Africa              Iraq        Household   \n",
      "555503                        Europe            Monaco             Meat   \n",
      "555504         Australia and Oceania   Solomon Islands          Clothes   \n",
      "555505         Australia and Oceania  Marshall Islands        Cosmetics   \n",
      "555506                        Europe            Greece  Office Supplies   \n",
      "\n",
      "       Sales Channel Order Priority  Order Date   Order ID   Ship Date  \\\n",
      "0            Offline              M  2018-10-22  378301179  2018-12-10   \n",
      "1            Offline              C  2016-12-17  979919803  2016-12-18   \n",
      "2             Online              L  2019-10-05  198538243  2019-10-24   \n",
      "3             Online              H  2019-10-01  365455329  2019-11-09   \n",
      "4             Online              M  2021-09-03  732282388  2021-09-13   \n",
      "...              ...            ...         ...        ...         ...   \n",
      "555502        Online              L  2018-03-17  940436398  2018-04-23   \n",
      "555503       Offline              H  2019-11-08  407689177  2019-11-28   \n",
      "555504        Online              C  2024-06-01  727000367  2024-07-18   \n",
      "555505       Offline              L  2024-02-12  714043796  2024-03-22   \n",
      "555506        Online              C  2023-05-11  604805791  2023-06-12   \n",
      "\n",
      "        Units Sold  Unit Price  Unit Cost  Total Revenue  Total Cost  \\\n",
      "0             6580      152.58      97.44     1003976.40   641155.20   \n",
      "1             8900       47.45      31.79      422305.00   282931.00   \n",
      "2              733      152.58      97.44      111841.14    71423.52   \n",
      "3             5208        9.33       6.92       48590.64    36039.36   \n",
      "4             7486      437.20     263.33     3272879.20  1971288.38   \n",
      "...            ...         ...        ...            ...         ...   \n",
      "555502        4884      668.27     502.54     3263830.68  2454405.36   \n",
      "555503        3142      421.89     364.69     1325578.38  1145855.98   \n",
      "555504        4419      109.28      35.84      482908.32   158376.96   \n",
      "555505         282      437.20     263.33      123290.40    74259.06   \n",
      "555506        4329      651.21     524.96     2819088.09  2272551.84   \n",
      "\n",
      "        Total Profit  \n",
      "0          362821.20  \n",
      "1          139374.00  \n",
      "2           40417.62  \n",
      "3           12551.28  \n",
      "4         1301590.82  \n",
      "...              ...  \n",
      "555502     809425.32  \n",
      "555503     179722.40  \n",
      "555504     324531.36  \n",
      "555505      49031.34  \n",
      "555506     546536.25  \n",
      "\n",
      "[555507 rows x 14 columns]\n"
     ]
    }
   ],
   "source": [
    "for partition in df.to_delayed():\n",
    "    print(partition.compute())  # Prints each partition one by one\n"
   ]
  },
  {
   "cell_type": "code",
   "execution_count": 11,
   "id": "aa805b90-eda0-4c9f-8dca-c0e076660998",
   "metadata": {},
   "outputs": [
    {
     "name": "stdout",
     "output_type": "stream",
     "text": [
      "<class 'dask.dataframe.dask_expr.DataFrame'>\n",
      "Columns: 14 entries, Region to Total Profit\n",
      "dtypes: float64(5), int64(2), string(7)"
     ]
    }
   ],
   "source": [
    "df.info()"
   ]
  },
  {
   "cell_type": "code",
   "execution_count": 12,
   "id": "fcd44f7e-99cc-494a-aa28-98f12018ae6b",
   "metadata": {},
   "outputs": [
    {
     "data": {
      "text/html": [
       "<div>\n",
       "<style scoped>\n",
       "    .dataframe tbody tr th:only-of-type {\n",
       "        vertical-align: middle;\n",
       "    }\n",
       "\n",
       "    .dataframe tbody tr th {\n",
       "        vertical-align: top;\n",
       "    }\n",
       "\n",
       "    .dataframe thead th {\n",
       "        text-align: right;\n",
       "    }\n",
       "</style>\n",
       "<table border=\"1\" class=\"dataframe\">\n",
       "  <thead>\n",
       "    <tr style=\"text-align: right;\">\n",
       "      <th></th>\n",
       "      <th>Order ID</th>\n",
       "      <th>Units Sold</th>\n",
       "      <th>Unit Price</th>\n",
       "      <th>Unit Cost</th>\n",
       "      <th>Total Revenue</th>\n",
       "      <th>Total Cost</th>\n",
       "      <th>Total Profit</th>\n",
       "    </tr>\n",
       "  </thead>\n",
       "  <tbody>\n",
       "    <tr>\n",
       "      <th>count</th>\n",
       "      <td>5.000000e+06</td>\n",
       "      <td>5.000000e+06</td>\n",
       "      <td>5.000000e+06</td>\n",
       "      <td>5.000000e+06</td>\n",
       "      <td>5.000000e+06</td>\n",
       "      <td>5.000000e+06</td>\n",
       "      <td>5.000000e+06</td>\n",
       "    </tr>\n",
       "    <tr>\n",
       "      <th>mean</th>\n",
       "      <td>5.498905e+08</td>\n",
       "      <td>4.999991e+03</td>\n",
       "      <td>2.661906e+02</td>\n",
       "      <td>1.876560e+02</td>\n",
       "      <td>1.331058e+06</td>\n",
       "      <td>9.383781e+05</td>\n",
       "      <td>3.926799e+05</td>\n",
       "    </tr>\n",
       "    <tr>\n",
       "      <th>std</th>\n",
       "      <td>2.597753e+08</td>\n",
       "      <td>2.886787e+03</td>\n",
       "      <td>2.170153e+02</td>\n",
       "      <td>1.757014e+02</td>\n",
       "      <td>1.469902e+06</td>\n",
       "      <td>1.150104e+06</td>\n",
       "      <td>3.791169e+05</td>\n",
       "    </tr>\n",
       "    <tr>\n",
       "      <th>min</th>\n",
       "      <td>1.000003e+08</td>\n",
       "      <td>1.000000e+00</td>\n",
       "      <td>9.330000e+00</td>\n",
       "      <td>6.920000e+00</td>\n",
       "      <td>9.330000e+00</td>\n",
       "      <td>6.920000e+00</td>\n",
       "      <td>2.410000e+00</td>\n",
       "    </tr>\n",
       "    <tr>\n",
       "      <th>25%</th>\n",
       "      <td>3.264781e+08</td>\n",
       "      <td>2.505000e+03</td>\n",
       "      <td>1.092800e+02</td>\n",
       "      <td>5.667000e+01</td>\n",
       "      <td>2.792031e+05</td>\n",
       "      <td>1.626084e+05</td>\n",
       "      <td>9.557125e+04</td>\n",
       "    </tr>\n",
       "    <tr>\n",
       "      <th>50%</th>\n",
       "      <td>5.517487e+08</td>\n",
       "      <td>5.006000e+03</td>\n",
       "      <td>2.057000e+02</td>\n",
       "      <td>1.171100e+02</td>\n",
       "      <td>7.872531e+05</td>\n",
       "      <td>4.690009e+05</td>\n",
       "      <td>2.824036e+05</td>\n",
       "    </tr>\n",
       "    <tr>\n",
       "      <th>75%</th>\n",
       "      <td>7.775920e+08</td>\n",
       "      <td>7.502000e+03</td>\n",
       "      <td>4.372000e+02</td>\n",
       "      <td>3.646900e+02</td>\n",
       "      <td>1.824486e+06</td>\n",
       "      <td>1.200433e+06</td>\n",
       "      <td>5.663409e+05</td>\n",
       "    </tr>\n",
       "    <tr>\n",
       "      <th>max</th>\n",
       "      <td>9.999999e+08</td>\n",
       "      <td>1.000000e+04</td>\n",
       "      <td>6.682700e+02</td>\n",
       "      <td>5.249600e+02</td>\n",
       "      <td>6.682700e+06</td>\n",
       "      <td>5.249600e+06</td>\n",
       "      <td>1.738700e+06</td>\n",
       "    </tr>\n",
       "  </tbody>\n",
       "</table>\n",
       "</div>"
      ],
      "text/plain": [
       "           Order ID    Units Sold    Unit Price     Unit Cost  Total Revenue  \\\n",
       "count  5.000000e+06  5.000000e+06  5.000000e+06  5.000000e+06   5.000000e+06   \n",
       "mean   5.498905e+08  4.999991e+03  2.661906e+02  1.876560e+02   1.331058e+06   \n",
       "std    2.597753e+08  2.886787e+03  2.170153e+02  1.757014e+02   1.469902e+06   \n",
       "min    1.000003e+08  1.000000e+00  9.330000e+00  6.920000e+00   9.330000e+00   \n",
       "25%    3.264781e+08  2.505000e+03  1.092800e+02  5.667000e+01   2.792031e+05   \n",
       "50%    5.517487e+08  5.006000e+03  2.057000e+02  1.171100e+02   7.872531e+05   \n",
       "75%    7.775920e+08  7.502000e+03  4.372000e+02  3.646900e+02   1.824486e+06   \n",
       "max    9.999999e+08  1.000000e+04  6.682700e+02  5.249600e+02   6.682700e+06   \n",
       "\n",
       "         Total Cost  Total Profit  \n",
       "count  5.000000e+06  5.000000e+06  \n",
       "mean   9.383781e+05  3.926799e+05  \n",
       "std    1.150104e+06  3.791169e+05  \n",
       "min    6.920000e+00  2.410000e+00  \n",
       "25%    1.626084e+05  9.557125e+04  \n",
       "50%    4.690009e+05  2.824036e+05  \n",
       "75%    1.200433e+06  5.663409e+05  \n",
       "max    5.249600e+06  1.738700e+06  "
      ]
     },
     "execution_count": 12,
     "metadata": {},
     "output_type": "execute_result"
    }
   ],
   "source": [
    "df.describe().compute()"
   ]
  },
  {
   "cell_type": "code",
   "execution_count": 13,
   "id": "934d46b5-9160-4580-9ff8-6827ae1f4bcf",
   "metadata": {},
   "outputs": [
    {
     "data": {
      "text/plain": [
       "Region            0\n",
       "Country           0\n",
       "Item Type         0\n",
       "Sales Channel     0\n",
       "Order Priority    0\n",
       "Order Date        0\n",
       "Order ID          0\n",
       "Ship Date         0\n",
       "Units Sold        0\n",
       "Unit Price        0\n",
       "Unit Cost         0\n",
       "Total Revenue     0\n",
       "Total Cost        0\n",
       "Total Profit      0\n",
       "dtype: int64"
      ]
     },
     "execution_count": 13,
     "metadata": {},
     "output_type": "execute_result"
    }
   ],
   "source": [
    "df.isnull().sum().compute()"
   ]
  },
  {
   "cell_type": "code",
   "execution_count": 14,
   "id": "93eab5be-94ee-4b1d-8cf8-bc9b06ee636a",
   "metadata": {},
   "outputs": [
    {
     "data": {
      "text/plain": [
       "Region                  7\n",
       "Country               185\n",
       "Item Type              12\n",
       "Sales Channel           2\n",
       "Order Priority          4\n",
       "Order Date           3906\n",
       "Order ID          2097152\n",
       "Ship Date            3956\n",
       "Units Sold          10000\n",
       "Unit Price             12\n",
       "Unit Cost              12\n",
       "Total Revenue      119953\n",
       "Total Cost         119786\n",
       "Total Profit       119831\n",
       "dtype: int64"
      ]
     },
     "execution_count": 14,
     "metadata": {},
     "output_type": "execute_result"
    }
   ],
   "source": [
    "df.nunique().compute()"
   ]
  },
  {
   "cell_type": "code",
   "execution_count": 15,
   "id": "ae31c021-a8c2-49aa-a05c-53f784ff8194",
   "metadata": {},
   "outputs": [
    {
     "data": {
      "text/plain": [
       "2043424"
      ]
     },
     "execution_count": 15,
     "metadata": {},
     "output_type": "execute_result"
    }
   ],
   "source": [
    "df['Order ID'].value_counts().compute()[df['Order ID'].value_counts().compute() > 1].count()\n"
   ]
  },
  {
   "cell_type": "code",
   "execution_count": 15,
   "id": "6ccafcff-12bb-42d5-8c65-2782acf92f7d",
   "metadata": {},
   "outputs": [
    {
     "data": {
      "text/plain": [
       "2043424"
      ]
     },
     "execution_count": 15,
     "metadata": {},
     "output_type": "execute_result"
    }
   ],
   "source": [
    "df['Order ID'].value_counts().compute()[df['Order ID'].value_counts().compute() > 1].count()\n"
   ]
  },
  {
   "cell_type": "code",
   "execution_count": 15,
   "id": "c80eb2e0-6dfa-4cc7-b99f-4707caa24498",
   "metadata": {},
   "outputs": [
    {
     "data": {
      "text/plain": [
       "2043424"
      ]
     },
     "execution_count": 15,
     "metadata": {},
     "output_type": "execute_result"
    }
   ],
   "source": [
    "df['Order ID'].value_counts().compute()[df['Order ID'].value_counts().compute() > 1].count()\n"
   ]
  },
  {
   "cell_type": "code",
   "execution_count": 41,
   "id": "ab18ccb3-77d8-4df0-b411-2b99d2b07cb4",
   "metadata": {},
   "outputs": [
    {
     "data": {
      "text/plain": [
       "True"
      ]
     },
     "execution_count": 41,
     "metadata": {},
     "output_type": "execute_result"
    }
   ],
   "source": [
    "df['Order ID'].nunique().compute() == len(df)"
   ]
  },
  {
   "cell_type": "code",
   "execution_count": 42,
   "id": "dbcc0243-c8a1-4173-b46c-7ee6ac6c2b81",
   "metadata": {},
   "outputs": [
    {
     "data": {
      "text/plain": [
       "Series([], Name: count, dtype: int64)"
      ]
     },
     "execution_count": 42,
     "metadata": {},
     "output_type": "execute_result"
    }
   ],
   "source": [
    "df['Order ID'].value_counts().compute()[df['Order ID'].value_counts().compute() > 1]\n"
   ]
  },
  {
   "cell_type": "raw",
   "id": "8410f078-b21e-4b4b-8456-4f3efe37515a",
   "metadata": {},
   "source": [
    "Key Observations:\n",
    "The total unique Order IDs = 2,043,424 (from df['Order ID'].nunique().compute())\n",
    "The dataset has 5,000,000 rows, meaning some orders are repeated multiple times.\n",
    "Some Order IDs appear 2 or 3 times (e.g., 100005042 appears 3 times)."
   ]
  },
  {
   "cell_type": "raw",
   "id": "02caec5a-3a2d-4e69-90e7-0f74bd9669a6",
   "metadata": {},
   "source": [
    "Possible Reasons for Duplicates:\n",
    "Multiple items per order: If an order contains multiple products, it may be split into multiple rows.\n",
    "Partial shipments: The same order might have been shipped in batches.\n",
    "Data entry issues: There could be accidental duplicate entries.\n",
    "Order modifications: If an order was updated, older versions might still be in the dataset."
   ]
  },
  {
   "cell_type": "code",
   "execution_count": 18,
   "id": "aa7abdc2-5932-4be7-9f46-fed21a718e38",
   "metadata": {},
   "outputs": [
    {
     "name": "stdout",
     "output_type": "stream",
     "text": [
      "                    Region Country        Item Type Sales Channel  \\\n",
      "358743  Sub-Saharan Africa    Togo  Office Supplies       Offline   \n",
      "301955  Sub-Saharan Africa    Togo  Office Supplies       Offline   \n",
      "282551  Sub-Saharan Africa    Togo  Office Supplies       Offline   \n",
      "\n",
      "       Order Priority  Order Date   Order ID   Ship Date  Units Sold  \\\n",
      "358743              C  2015-12-05  100005042  2016-01-12        2569   \n",
      "301955              C  2015-12-05  100005042  2016-01-12        2569   \n",
      "282551              C  2015-12-05  100005042  2016-01-12        2569   \n",
      "\n",
      "        Unit Price  Unit Cost  Total Revenue  Total Cost  Total Profit  \n",
      "358743      651.21     524.96     1672958.49  1348622.24     324336.25  \n",
      "301955      651.21     524.96     1672958.49  1348622.24     324336.25  \n",
      "282551      651.21     524.96     1672958.49  1348622.24     324336.25  \n"
     ]
    }
   ],
   "source": [
    "filtered_rows = df[df[\"Order ID\"] == 100005042].compute()\n",
    "print(filtered_rows)\n"
   ]
  },
  {
   "cell_type": "code",
   "execution_count": 19,
   "id": "8cf2bdd6-10d0-4ff2-b621-729da2ac5bdd",
   "metadata": {},
   "outputs": [
    {
     "name": "stdout",
     "output_type": "stream",
     "text": [
      "        Region Country  Item Type Sales Channel Order Priority  Order Date  \\\n",
      "532758  Europe  Serbia  Baby Food       Offline              L  2019-03-26   \n",
      "519394  Europe  Serbia  Baby Food       Offline              L  2019-03-26   \n",
      "499990  Europe  Serbia  Baby Food       Offline              L  2019-03-26   \n",
      "\n",
      "         Order ID   Ship Date  Units Sold  Unit Price  Unit Cost  \\\n",
      "532758  100011479  2019-04-19        4474      255.28     159.42   \n",
      "519394  100011479  2019-04-19        4474      255.28     159.42   \n",
      "499990  100011479  2019-04-19        4474      255.28     159.42   \n",
      "\n",
      "        Total Revenue  Total Cost  Total Profit  \n",
      "532758     1142122.72   713245.08     428877.64  \n",
      "519394     1142122.72   713245.08     428877.64  \n",
      "499990     1142122.72   713245.08     428877.64  \n"
     ]
    }
   ],
   "source": [
    "filtered_rows = df[df[\"Order ID\"] == 100011479].compute()\n",
    "print(filtered_rows)"
   ]
  },
  {
   "cell_type": "code",
   "execution_count": 20,
   "id": "b6a66d37-0180-4bac-8221-1c18a51d5461",
   "metadata": {},
   "outputs": [
    {
     "name": "stdout",
     "output_type": "stream",
     "text": [
      "        Region Country  Item Type Sales Channel Order Priority  Order Date  \\\n",
      "528000  Europe  Latvia  Household       Offline              H  2014-02-05   \n",
      "304370  Europe  Latvia  Household       Offline              H  2014-02-05   \n",
      "495297  Europe  Latvia  Household       Offline              H  2014-02-05   \n",
      "\n",
      "         Order ID   Ship Date  Units Sold  Unit Price  Unit Cost  \\\n",
      "528000  999997317  2014-02-20         283      668.27     502.54   \n",
      "304370  999997317  2014-02-20         283      668.27     502.54   \n",
      "495297  999997317  2014-02-20         283      668.27     502.54   \n",
      "\n",
      "        Total Revenue  Total Cost  Total Profit  \n",
      "528000      189120.41   142218.82      46901.59  \n",
      "304370      189120.41   142218.82      46901.59  \n",
      "495297      189120.41   142218.82      46901.59  \n"
     ]
    }
   ],
   "source": [
    "filtered_rows = df[df[\"Order ID\"] == 999997317].compute()\n",
    "print(filtered_rows)"
   ]
  },
  {
   "cell_type": "code",
   "execution_count": 21,
   "id": "864b2422-9bf4-4623-9dad-776a29d39458",
   "metadata": {},
   "outputs": [],
   "source": [
    "df = df.drop_duplicates(subset=[\"Order ID\"], keep=\"first\")\n"
   ]
  },
  {
   "cell_type": "code",
   "execution_count": 22,
   "id": "5071b023-9bc2-441f-bdfb-a7d88b57c786",
   "metadata": {},
   "outputs": [
    {
     "name": "stdout",
     "output_type": "stream",
     "text": [
      "0\n"
     ]
    }
   ],
   "source": [
    "duplicate_count = df.groupby(\"Order ID\").size().compute()\n",
    "print((duplicate_count > 1).sum())  # Should print 0 if no duplicates exist\n"
   ]
  },
  {
   "cell_type": "code",
   "execution_count": 43,
   "id": "7b3bbde8-a9c0-4d95-8e40-fee0327201e2",
   "metadata": {},
   "outputs": [
    {
     "name": "stdout",
     "output_type": "stream",
     "text": [
      "        Region Country  Item Type Sales Channel Order Priority Order Date  \\\n",
      "182259  Europe  Latvia  Household       Offline              H 2014-02-05   \n",
      "\n",
      "         Order ID  Ship Date  Units Sold  Unit Price  Unit Cost  \\\n",
      "182259  999997317 2014-02-20         283      668.27     502.54   \n",
      "\n",
      "        Total Revenue  Total Cost  Total Profit  \n",
      "182259      189120.41   142218.82      46901.59  \n"
     ]
    }
   ],
   "source": [
    "filtered_rows = df[df[\"Order ID\"] == 999997317]  # No .compute() yet\n",
    "print(filtered_rows.compute())  # Compute only when needed\n"
   ]
  },
  {
   "cell_type": "code",
   "execution_count": 44,
   "id": "e9b46a54-0432-477f-9732-c1f45e640fb3",
   "metadata": {},
   "outputs": [
    {
     "name": "stdout",
     "output_type": "stream",
     "text": [
      "Rows: 2097152\n"
     ]
    }
   ],
   "source": [
    "print(\"Rows:\", df.shape[0].compute())"
   ]
  },
  {
   "cell_type": "code",
   "execution_count": 25,
   "id": "82d7a51d-2755-4942-9843-cf05e52a9b0a",
   "metadata": {},
   "outputs": [
    {
     "name": "stdout",
     "output_type": "stream",
     "text": [
      "                               Region      Country        Item Type  \\\n",
      "22       Middle East and North Africa        Yemen        Household   \n",
      "23                               Asia      Myanmar       Vegetables   \n",
      "24                 Sub-Saharan Africa   The Gambia  Office Supplies   \n",
      "26                 Sub-Saharan Africa       Malawi           Snacks   \n",
      "31       Middle East and North Africa         Oman       Vegetables   \n",
      "40                 Sub-Saharan Africa      Comoros  Office Supplies   \n",
      "46                 Sub-Saharan Africa      Lesotho    Personal Care   \n",
      "54                             Europe      Hungary        Cosmetics   \n",
      "70  Central America and the Caribbean  Saint Lucia    Personal Care   \n",
      "76  Central America and the Caribbean      Grenada        Household   \n",
      "\n",
      "   Sales Channel Order Priority  Order Date   Order ID   Ship Date  \\\n",
      "22        Online              C  2019-04-18  479070270  2019-05-08   \n",
      "23       Offline              H  2020-03-28  727876698  2020-04-19   \n",
      "24        Online              L  2015-01-28  958184897  2015-03-07   \n",
      "26        Online              M  2017-08-08  690064418  2017-08-29   \n",
      "31        Online              L  2016-06-02  697118413  2016-07-16   \n",
      "40        Online              C  2015-11-06  798450553  2015-11-14   \n",
      "46        Online              L  2020-02-16  546866214  2020-02-28   \n",
      "54        Online              L  2017-07-12  995441424  2017-08-03   \n",
      "70        Online              M  2024-01-22  731556689  2024-02-26   \n",
      "76       Offline              M  2022-03-16  959470641  2022-04-22   \n",
      "\n",
      "    Units Sold  Unit Price  Unit Cost  Total Revenue  Total Cost  Total Profit  \n",
      "22        6394      668.27     502.54     4272918.38  3213240.76    1059677.62  \n",
      "23        3745      154.06      90.93      576954.70   340532.85     236421.85  \n",
      "24        7059      651.21     524.96     4596891.39  3705692.64     891198.75  \n",
      "26        4251      152.58      97.44      648617.58   414217.44     234400.14  \n",
      "31        1685      154.06      90.93      259591.10   153217.05     106374.05  \n",
      "40        8117      651.21     524.96     5285871.57  4261100.32    1024771.25  \n",
      "46        8720       81.73      56.67      712685.60   494162.40     218523.20  \n",
      "54        2093      437.20     263.33      915059.60   551149.69     363909.91  \n",
      "70        2736       81.73      56.67      223613.28   155049.12      68564.16  \n",
      "76        7539      668.27     502.54     5038087.53  3788649.06    1249438.47  \n"
     ]
    }
   ],
   "source": [
    "print(df.head(10))  \n"
   ]
  },
  {
   "cell_type": "code",
   "execution_count": 26,
   "id": "b9e7ad96-a0b5-464d-b002-a63b3109e426",
   "metadata": {},
   "outputs": [
    {
     "name": "stdout",
     "output_type": "stream",
     "text": [
      "2097152\n"
     ]
    }
   ],
   "source": [
    "print(len(df))  # Displays the count of remaining rows\n"
   ]
  },
  {
   "cell_type": "code",
   "execution_count": 27,
   "id": "7f12610a-d33b-443d-8d41-8acf4c078218",
   "metadata": {},
   "outputs": [
    {
     "name": "stdout",
     "output_type": "stream",
     "text": [
      "                         Region     Country        Item Type Sales Channel  \\\n",
      "0  Middle East and North Africa       Yemen        Household        Online   \n",
      "1                          Asia     Myanmar       Vegetables       Offline   \n",
      "2            Sub-Saharan Africa  The Gambia  Office Supplies        Online   \n",
      "3            Sub-Saharan Africa      Malawi           Snacks        Online   \n",
      "4  Middle East and North Africa        Oman       Vegetables        Online   \n",
      "\n",
      "  Order Priority  Order Date   Order ID   Ship Date  Units Sold  Unit Price  \\\n",
      "0              C  2019-04-18  479070270  2019-05-08        6394      668.27   \n",
      "1              H  2020-03-28  727876698  2020-04-19        3745      154.06   \n",
      "2              L  2015-01-28  958184897  2015-03-07        7059      651.21   \n",
      "3              M  2017-08-08  690064418  2017-08-29        4251      152.58   \n",
      "4              L  2016-06-02  697118413  2016-07-16        1685      154.06   \n",
      "\n",
      "   Unit Cost  Total Revenue  Total Cost  Total Profit  \n",
      "0     502.54     4272918.38  3213240.76    1059677.62  \n",
      "1      90.93      576954.70   340532.85     236421.85  \n",
      "2     524.96     4596891.39  3705692.64     891198.75  \n",
      "3      97.44      648617.58   414217.44     234400.14  \n",
      "4      90.93      259591.10   153217.05     106374.05  \n"
     ]
    }
   ],
   "source": [
    "df = df.reset_index(drop=True)\n",
    "print(df.head())"
   ]
  },
  {
   "cell_type": "code",
   "execution_count": 28,
   "id": "0b221e93-e4c8-4c69-a0de-7621bc236d4e",
   "metadata": {},
   "outputs": [
    {
     "name": "stdout",
     "output_type": "stream",
     "text": [
      "                              Region      Country        Item Type  \\\n",
      "0       Middle East and North Africa        Yemen        Household   \n",
      "1                               Asia      Myanmar       Vegetables   \n",
      "2                 Sub-Saharan Africa   The Gambia  Office Supplies   \n",
      "3                 Sub-Saharan Africa       Malawi           Snacks   \n",
      "4       Middle East and North Africa         Oman       Vegetables   \n",
      "5                 Sub-Saharan Africa      Comoros  Office Supplies   \n",
      "6                 Sub-Saharan Africa      Lesotho    Personal Care   \n",
      "7                             Europe      Hungary        Cosmetics   \n",
      "8  Central America and the Caribbean  Saint Lucia    Personal Care   \n",
      "9  Central America and the Caribbean      Grenada        Household   \n",
      "\n",
      "  Sales Channel Order Priority  Order Date   Order ID   Ship Date  Units Sold  \\\n",
      "0        Online              C  2019-04-18  479070270  2019-05-08        6394   \n",
      "1       Offline              H  2020-03-28  727876698  2020-04-19        3745   \n",
      "2        Online              L  2015-01-28  958184897  2015-03-07        7059   \n",
      "3        Online              M  2017-08-08  690064418  2017-08-29        4251   \n",
      "4        Online              L  2016-06-02  697118413  2016-07-16        1685   \n",
      "5        Online              C  2015-11-06  798450553  2015-11-14        8117   \n",
      "6        Online              L  2020-02-16  546866214  2020-02-28        8720   \n",
      "7        Online              L  2017-07-12  995441424  2017-08-03        2093   \n",
      "8        Online              M  2024-01-22  731556689  2024-02-26        2736   \n",
      "9       Offline              M  2022-03-16  959470641  2022-04-22        7539   \n",
      "\n",
      "   Unit Price  Unit Cost  Total Revenue  Total Cost  Total Profit  \n",
      "0      668.27     502.54     4272918.38  3213240.76    1059677.62  \n",
      "1      154.06      90.93      576954.70   340532.85     236421.85  \n",
      "2      651.21     524.96     4596891.39  3705692.64     891198.75  \n",
      "3      152.58      97.44      648617.58   414217.44     234400.14  \n",
      "4      154.06      90.93      259591.10   153217.05     106374.05  \n",
      "5      651.21     524.96     5285871.57  4261100.32    1024771.25  \n",
      "6       81.73      56.67      712685.60   494162.40     218523.20  \n",
      "7      437.20     263.33      915059.60   551149.69     363909.91  \n",
      "8       81.73      56.67      223613.28   155049.12      68564.16  \n",
      "9      668.27     502.54     5038087.53  3788649.06    1249438.47  \n"
     ]
    }
   ],
   "source": [
    "print(df.head(10))  "
   ]
  },
  {
   "cell_type": "code",
   "execution_count": 29,
   "id": "6cbad803-36d8-4c47-9831-0d7efea17df2",
   "metadata": {},
   "outputs": [
    {
     "name": "stdout",
     "output_type": "stream",
     "text": [
      "<class 'dask.dataframe.dask_expr.DataFrame'>\n",
      "Columns: 14 entries, Region to Total Profit\n",
      "dtypes: float64(5), int64(2), string(7)None\n"
     ]
    }
   ],
   "source": [
    "print(df.info())\n"
   ]
  },
  {
   "cell_type": "code",
   "execution_count": 30,
   "id": "849ea2ee-5c28-4814-a775-a9b8f95eb77a",
   "metadata": {},
   "outputs": [
    {
     "name": "stdout",
     "output_type": "stream",
     "text": [
      "Region            string[pyarrow]\n",
      "Country           string[pyarrow]\n",
      "Item Type         string[pyarrow]\n",
      "Sales Channel     string[pyarrow]\n",
      "Order Priority    string[pyarrow]\n",
      "Order Date        string[pyarrow]\n",
      "Order ID                    int64\n",
      "Ship Date         string[pyarrow]\n",
      "Units Sold                  int64\n",
      "Unit Price                float64\n",
      "Unit Cost                 float64\n",
      "Total Revenue             float64\n",
      "Total Cost                float64\n",
      "Total Profit              float64\n",
      "dtype: object\n"
     ]
    }
   ],
   "source": [
    "print(df.dtypes)"
   ]
  },
  {
   "cell_type": "code",
   "execution_count": 31,
   "id": "c5a9d90f-2781-4717-8129-a1f37fc67168",
   "metadata": {},
   "outputs": [],
   "source": [
    "df[\"Order Date\"] = df[\"Order Date\"].astype(\"datetime64[ns]\")\n",
    "df[\"Ship Date\"] = df[\"Ship Date\"].astype(\"datetime64[ns]\")"
   ]
  },
  {
   "cell_type": "code",
   "execution_count": 32,
   "id": "e4389cb3-ce89-4115-8844-ecd656881453",
   "metadata": {},
   "outputs": [
    {
     "name": "stdout",
     "output_type": "stream",
     "text": [
      "Region            string[pyarrow]\n",
      "Country           string[pyarrow]\n",
      "Item Type         string[pyarrow]\n",
      "Sales Channel     string[pyarrow]\n",
      "Order Priority    string[pyarrow]\n",
      "Order Date         datetime64[ns]\n",
      "Order ID                    int64\n",
      "Ship Date          datetime64[ns]\n",
      "Units Sold                  int64\n",
      "Unit Price                float64\n",
      "Unit Cost                 float64\n",
      "Total Revenue             float64\n",
      "Total Cost                float64\n",
      "Total Profit              float64\n",
      "dtype: object\n"
     ]
    }
   ],
   "source": [
    "print(df.dtypes)"
   ]
  },
  {
   "cell_type": "code",
   "execution_count": 45,
   "id": "bd465f5c-b3c3-43f8-a742-6bc7f6aed309",
   "metadata": {},
   "outputs": [
    {
     "name": "stdout",
     "output_type": "stream",
     "text": [
      "Region            0\n",
      "Country           0\n",
      "Item Type         0\n",
      "Sales Channel     0\n",
      "Order Priority    0\n",
      "Order Date        0\n",
      "Order ID          0\n",
      "Ship Date         0\n",
      "Units Sold        0\n",
      "Unit Price        0\n",
      "Unit Cost         0\n",
      "Total Revenue     0\n",
      "Total Cost        0\n",
      "Total Profit      0\n",
      "dtype: int64\n"
     ]
    }
   ],
   "source": [
    "print(df.isnull().sum().compute())"
   ]
  },
  {
   "cell_type": "code",
   "execution_count": 47,
   "id": "9aa8ee46-f01d-4cc7-8e6a-ed548d702687",
   "metadata": {},
   "outputs": [
    {
     "data": {
      "text/html": [
       "<div>\n",
       "<style scoped>\n",
       "    .dataframe tbody tr th:only-of-type {\n",
       "        vertical-align: middle;\n",
       "    }\n",
       "\n",
       "    .dataframe tbody tr th {\n",
       "        vertical-align: top;\n",
       "    }\n",
       "\n",
       "    .dataframe thead th {\n",
       "        text-align: right;\n",
       "    }\n",
       "</style>\n",
       "<table border=\"1\" class=\"dataframe\">\n",
       "  <thead>\n",
       "    <tr style=\"text-align: right;\">\n",
       "      <th></th>\n",
       "      <th>Order Date</th>\n",
       "      <th>Order ID</th>\n",
       "      <th>Ship Date</th>\n",
       "      <th>Units Sold</th>\n",
       "      <th>Unit Price</th>\n",
       "      <th>Unit Cost</th>\n",
       "      <th>Total Revenue</th>\n",
       "      <th>Total Cost</th>\n",
       "      <th>Total Profit</th>\n",
       "    </tr>\n",
       "  </thead>\n",
       "  <tbody>\n",
       "    <tr>\n",
       "      <th>count</th>\n",
       "      <td>2097152</td>\n",
       "      <td>2.097152e+06</td>\n",
       "      <td>2097152</td>\n",
       "      <td>2.097152e+06</td>\n",
       "      <td>2.097152e+06</td>\n",
       "      <td>2.097152e+06</td>\n",
       "      <td>2.097152e+06</td>\n",
       "      <td>2.097152e+06</td>\n",
       "      <td>2.097152e+06</td>\n",
       "    </tr>\n",
       "    <tr>\n",
       "      <th>min</th>\n",
       "      <td>2014-01-01 00:00:00</td>\n",
       "      <td>1.000003e+08</td>\n",
       "      <td>2014-01-01 00:00:00</td>\n",
       "      <td>1.000000e+00</td>\n",
       "      <td>9.330000e+00</td>\n",
       "      <td>6.920000e+00</td>\n",
       "      <td>9.330000e+00</td>\n",
       "      <td>6.920000e+00</td>\n",
       "      <td>2.410000e+00</td>\n",
       "    </tr>\n",
       "    <tr>\n",
       "      <th>25%</th>\n",
       "      <td>2016-09-08 00:00:00</td>\n",
       "      <td>3.265730e+08</td>\n",
       "      <td>2016-10-03 00:00:00</td>\n",
       "      <td>2.519000e+03</td>\n",
       "      <td>1.092800e+02</td>\n",
       "      <td>5.667000e+01</td>\n",
       "      <td>2.803346e+05</td>\n",
       "      <td>1.634930e+05</td>\n",
       "      <td>9.572076e+04</td>\n",
       "    </tr>\n",
       "    <tr>\n",
       "      <th>50%</th>\n",
       "      <td>2019-05-15 00:00:00</td>\n",
       "      <td>5.514017e+08</td>\n",
       "      <td>2019-06-08 00:00:00</td>\n",
       "      <td>5.016000e+03</td>\n",
       "      <td>2.057000e+02</td>\n",
       "      <td>1.171100e+02</td>\n",
       "      <td>7.891109e+05</td>\n",
       "      <td>4.701480e+05</td>\n",
       "      <td>2.844007e+05</td>\n",
       "    </tr>\n",
       "    <tr>\n",
       "      <th>75%</th>\n",
       "      <td>2022-01-15 00:00:00</td>\n",
       "      <td>7.757283e+08</td>\n",
       "      <td>2022-02-08 00:00:00</td>\n",
       "      <td>7.519000e+03</td>\n",
       "      <td>4.372000e+02</td>\n",
       "      <td>3.646900e+02</td>\n",
       "      <td>1.829592e+06</td>\n",
       "      <td>1.204936e+06</td>\n",
       "      <td>5.671582e+05</td>\n",
       "    </tr>\n",
       "    <tr>\n",
       "      <th>max</th>\n",
       "      <td>2024-09-10 00:00:00</td>\n",
       "      <td>9.999999e+08</td>\n",
       "      <td>2024-10-30 00:00:00</td>\n",
       "      <td>1.000000e+04</td>\n",
       "      <td>6.682700e+02</td>\n",
       "      <td>5.249600e+02</td>\n",
       "      <td>6.682700e+06</td>\n",
       "      <td>5.249600e+06</td>\n",
       "      <td>1.738700e+06</td>\n",
       "    </tr>\n",
       "    <tr>\n",
       "      <th>mean</th>\n",
       "      <td>NaN</td>\n",
       "      <td>5.500001e+08</td>\n",
       "      <td>NaN</td>\n",
       "      <td>5.000498e+03</td>\n",
       "      <td>2.661651e+02</td>\n",
       "      <td>1.876368e+02</td>\n",
       "      <td>1.331001e+06</td>\n",
       "      <td>9.383151e+05</td>\n",
       "      <td>3.926858e+05</td>\n",
       "    </tr>\n",
       "    <tr>\n",
       "      <th>std</th>\n",
       "      <td>NaN</td>\n",
       "      <td>2.598077e+08</td>\n",
       "      <td>NaN</td>\n",
       "      <td>2.886752e+03</td>\n",
       "      <td>2.170110e+02</td>\n",
       "      <td>1.756957e+02</td>\n",
       "      <td>1.469895e+06</td>\n",
       "      <td>1.150072e+06</td>\n",
       "      <td>3.791404e+05</td>\n",
       "    </tr>\n",
       "  </tbody>\n",
       "</table>\n",
       "</div>"
      ],
      "text/plain": [
       "                Order Date      Order ID            Ship Date    Units Sold  \\\n",
       "count              2097152  2.097152e+06              2097152  2.097152e+06   \n",
       "min    2014-01-01 00:00:00  1.000003e+08  2014-01-01 00:00:00  1.000000e+00   \n",
       "25%    2016-09-08 00:00:00  3.265730e+08  2016-10-03 00:00:00  2.519000e+03   \n",
       "50%    2019-05-15 00:00:00  5.514017e+08  2019-06-08 00:00:00  5.016000e+03   \n",
       "75%    2022-01-15 00:00:00  7.757283e+08  2022-02-08 00:00:00  7.519000e+03   \n",
       "max    2024-09-10 00:00:00  9.999999e+08  2024-10-30 00:00:00  1.000000e+04   \n",
       "mean                   NaN  5.500001e+08                  NaN  5.000498e+03   \n",
       "std                    NaN  2.598077e+08                  NaN  2.886752e+03   \n",
       "\n",
       "         Unit Price     Unit Cost  Total Revenue    Total Cost  Total Profit  \n",
       "count  2.097152e+06  2.097152e+06   2.097152e+06  2.097152e+06  2.097152e+06  \n",
       "min    9.330000e+00  6.920000e+00   9.330000e+00  6.920000e+00  2.410000e+00  \n",
       "25%    1.092800e+02  5.667000e+01   2.803346e+05  1.634930e+05  9.572076e+04  \n",
       "50%    2.057000e+02  1.171100e+02   7.891109e+05  4.701480e+05  2.844007e+05  \n",
       "75%    4.372000e+02  3.646900e+02   1.829592e+06  1.204936e+06  5.671582e+05  \n",
       "max    6.682700e+02  5.249600e+02   6.682700e+06  5.249600e+06  1.738700e+06  \n",
       "mean   2.661651e+02  1.876368e+02   1.331001e+06  9.383151e+05  3.926858e+05  \n",
       "std    2.170110e+02  1.756957e+02   1.469895e+06  1.150072e+06  3.791404e+05  "
      ]
     },
     "execution_count": 47,
     "metadata": {},
     "output_type": "execute_result"
    }
   ],
   "source": [
    "df.describe().compute()"
   ]
  },
  {
   "cell_type": "markdown",
   "id": "ca81977e-cae8-49fe-814d-0ee2b48ac990",
   "metadata": {},
   "source": [
    "### How many Region,Country,Item Type in dataset"
   ]
  },
  {
   "cell_type": "code",
   "execution_count": 35,
   "id": "a71bd90a-0297-4676-8bae-869bc2aad025",
   "metadata": {},
   "outputs": [
    {
     "data": {
      "text/plain": [
       "Region         7\n",
       "Country      185\n",
       "Item Type     12\n",
       "dtype: int64"
      ]
     },
     "execution_count": 35,
     "metadata": {},
     "output_type": "execute_result"
    }
   ],
   "source": [
    "df[['Region', 'Country', 'Item Type']].nunique().compute()"
   ]
  },
  {
   "cell_type": "markdown",
   "id": "7615bfd4-5f9a-40c5-b31f-e114700e2908",
   "metadata": {},
   "source": [
    "### Name of Region Country and Item Type"
   ]
  },
  {
   "cell_type": "code",
   "execution_count": 48,
   "id": "06a51c75-53b2-48ae-b7ee-c2f9824f3f63",
   "metadata": {},
   "outputs": [
    {
     "name": "stdout",
     "output_type": "stream",
     "text": [
      "Regions: ['Middle East and North Africa', 'Asia', 'Sub-Saharan Africa', 'Australia and Oceania', 'North America', 'Europe', 'Central America and the Caribbean']\n",
      "\n",
      "Countries: ['Sudan', 'Jamaica', 'Italy', \"Cote d'Ivoire\", 'Zimbabwe', 'Grenada', 'Myanmar', 'Afghanistan', 'Laos', 'Kiribati', 'Greenland', 'Mauritania', 'Comoros', 'Sierra Leone', 'Yemen', 'United Kingdom', 'Iran', 'Turkey', 'Bahrain', 'Madagascar', 'Belgium', 'Senegal', 'Nigeria', 'Lithuania', 'Montenegro', 'Portugal', 'Switzerland', 'Japan', 'Ireland', 'Moldova ', 'Mongolia', 'Taiwan', 'Russia', 'Vatican City', 'Lesotho', 'Malta', 'Greece', 'Singapore', 'Iraq', 'Trinidad and Tobago', 'Panama', 'Lebanon', 'Cambodia', 'Austria', 'Djibouti', 'Equatorial Guinea', 'Thailand', 'Pakistan', 'Seychelles ', 'Algeria', 'China', 'Tanzania', 'Oman', 'Sweden', 'Philippines', 'The Bahamas', 'Gabon', 'Maldives', 'New Zealand', 'South Africa', 'Bosnia and Herzegovina', 'Guinea', 'Israel', 'Tuvalu', 'Marshall Islands', 'Kenya', 'Niger', 'Guinea-Bissau', 'South Korea', 'Burundi', 'Belarus', 'Honduras', 'Vietnam', 'Tajikistan', 'Dominica', 'Uzbekistan', 'Mexico', 'Saudi Arabia', 'Cape Verde', 'Chad', 'Nicaragua', 'Romania', 'Haiti', 'The Gambia', 'Malawi', 'Nepal', 'Samoa ', 'Syria', 'Iceland', 'Norway', 'Vanuatu', 'Malaysia', 'Cyprus', 'Liberia', 'Cuba', 'Kuwait', 'Hungary', 'Azerbaijan', 'North Korea', 'Saint Kitts and Nevis ', 'Ukraine', 'Sri Lanka', 'Canada', 'Mali', 'Mauritius ', 'Albania', 'India', 'Bulgaria', 'Slovakia', 'Republic of the Congo', 'Australia', 'Tunisia ', 'Brunei', 'Serbia', 'United Arab Emirates', 'El Salvador', 'Uganda', 'Slovenia', 'Egypt', 'Qatar', 'Armenia', 'Nauru', 'Sao Tome and Principe', 'Togo', 'Macedonia', 'Georgia', 'Czech Republic', 'Cameroon', 'Swaziland', 'Turkmenistan', 'Latvia', 'Jordan', 'Spain', 'Palau', 'Monaco', 'South Sudan', 'Saint Lucia', 'Andorra', 'Democratic Republic of the Congo', 'Poland', 'Antigua and Barbuda ', 'Estonia', 'Namibia', 'Belize', 'Bhutan', 'Ghana', 'Libya', 'Zambia', 'Rwanda', 'Bangladesh', 'Federated States of Micronesia', 'Somalia', 'Papua New Guinea', 'Barbados', 'Guatemala', 'Liechtenstein', 'Costa Rica', 'France', 'Indonesia', 'Solomon Islands', 'United States of America', 'Central African Republic', 'Benin', 'Finland', 'Kyrgyzstan', 'Ethiopia', 'Kosovo', 'East Timor', 'Kazakhstan', 'Denmark', 'Eritrea', 'Luxembourg', 'Netherlands', 'Dominican Republic', 'Angola', 'Botswana', 'Morocco', 'San Marino', 'Tonga', 'Croatia', 'Germany', 'Fiji', 'Mozambique', 'Saint Vincent and the Grenadines', 'Burkina Faso']\n",
      "\n",
      "Item Types: ['Clothes', 'Cereal', 'Personal Care', 'Baby Food', 'Meat', 'Fruits', 'Household', 'Office Supplies', 'Vegetables', 'Snacks', 'Beverages', 'Cosmetics']\n"
     ]
    }
   ],
   "source": [
    "print(\"Regions:\", list(set(df[\"Region\"].compute())))  \n",
    "print(\"\\nCountries:\", list(set(df[\"Country\"].compute())))  \n",
    "print(\"\\nItem Types:\", list(set(df[\"Item Type\"].compute())))  "
   ]
  },
  {
   "cell_type": "markdown",
   "id": "936da19c-8f0f-4d90-a934-3201adaae272",
   "metadata": {},
   "source": [
    "## Objective: Identify the total sales performance across different Regions, Countries, and Item Types to see which areas or products are performing the best."
   ]
  },
  {
   "cell_type": "markdown",
   "id": "5336e4d6-55bb-43ef-8531-97dd93c2c2b8",
   "metadata": {},
   "source": [
    "#### Step 1: Total Revenue by Region"
   ]
  },
  {
   "cell_type": "code",
   "execution_count": 37,
   "id": "5141540c-5e10-4dd6-a17d-096db6bbd296",
   "metadata": {},
   "outputs": [
    {
     "data": {
      "text/plain": [
       "Region\n",
       "Sub-Saharan Africa                   7.242164e+11\n",
       "Europe                               7.241913e+11\n",
       "Asia                                 4.073799e+11\n",
       "Middle East and North Africa         3.470547e+11\n",
       "Central America and the Caribbean    3.017905e+11\n",
       "Australia and Oceania                2.263054e+11\n",
       "North America                        6.037313e+10\n",
       "Name: Total Revenue, dtype: float64"
      ]
     },
     "execution_count": 37,
     "metadata": {},
     "output_type": "execute_result"
    }
   ],
   "source": [
    "df.groupby('Region')['Total Revenue'].sum().compute().sort_values(ascending=False)"
   ]
  },
  {
   "cell_type": "raw",
   "id": "cce3601a-82af-4093-8769-b8adf7fcc33b",
   "metadata": {},
   "source": [
    "Sub-Saharan Africa and Europe have the highest total revenue in your dataset, while North America has the lowest."
   ]
  },
  {
   "cell_type": "markdown",
   "id": "c1d79f93-b1c5-47dc-84e1-2d677a6f93de",
   "metadata": {},
   "source": [
    "#### step 2: Top 5 countries by revenue"
   ]
  },
  {
   "cell_type": "code",
   "execution_count": 49,
   "id": "a0fd05c2-502c-48eb-bfa8-2731613ad16e",
   "metadata": {},
   "outputs": [
    {
     "data": {
      "text/plain": [
       "Country\n",
       "Turkey        1.513059e+10\n",
       "Iceland       1.512909e+10\n",
       "Luxembourg    1.512547e+10\n",
       "Tanzania      1.512280e+10\n",
       "Canada        1.512247e+10\n",
       "Name: Total Revenue, dtype: float64"
      ]
     },
     "execution_count": 49,
     "metadata": {},
     "output_type": "execute_result"
    }
   ],
   "source": [
    "df.groupby('Country')['Total Revenue'].sum().compute().sort_values(ascending=False).head(5)"
   ]
  },
  {
   "cell_type": "raw",
   "id": "5e1fe5b2-c241-4d5f-b812-58e30037c50e",
   "metadata": {},
   "source": [
    "Turkey, Iceland, and Luxembourg are the top 3 countries in total revenue."
   ]
  },
  {
   "cell_type": "markdown",
   "id": "b55da8eb-d61d-41be-83c5-cfc8c8b0fe04",
   "metadata": {},
   "source": [
    "#### Step 3: Sales by Item Type"
   ]
  },
  {
   "cell_type": "code",
   "execution_count": 50,
   "id": "758ac46f-0f99-41b3-84a3-f5e2bf78fabb",
   "metadata": {},
   "outputs": [
    {
     "data": {
      "text/plain": [
       "Item Type\n",
       "Household          5.840204e+11\n",
       "Office Supplies    5.691746e+11\n",
       "Cosmetics          3.820489e+11\n",
       "Meat               3.687192e+11\n",
       "Baby Food          2.230790e+11\n",
       "Cereal             1.797617e+11\n",
       "Vegetables         1.346168e+11\n",
       "Snacks             1.333411e+11\n",
       "Clothes            9.550580e+10\n",
       "Personal Care      7.142607e+10\n",
       "Beverages          4.146519e+10\n",
       "Fruits             8.152601e+09\n",
       "Name: Total Revenue, dtype: float64"
      ]
     },
     "execution_count": 50,
     "metadata": {},
     "output_type": "execute_result"
    }
   ],
   "source": [
    "df.groupby('Item Type')['Total Revenue'].sum().compute().sort_values(ascending=False)"
   ]
  },
  {
   "cell_type": "raw",
   "id": "ebabec49-fcae-4acb-a522-b063e7625e91",
   "metadata": {},
   "source": [
    "Household,office supplies,Cosmetics has highest revenue these are high demand items"
   ]
  },
  {
   "cell_type": "markdown",
   "id": "01a22773-2f7a-40ef-adab-86bfaa4f659a",
   "metadata": {},
   "source": [
    " #### Step 4: Most Sold Items by Units Sold"
   ]
  },
  {
   "cell_type": "code",
   "execution_count": 51,
   "id": "60db5933-0b2c-4574-835e-6ecfd9661952",
   "metadata": {},
   "outputs": [
    {
     "data": {
      "text/plain": [
       "Item Type\n",
       "Office Supplies    874026231\n",
       "Meat               873970008\n",
       "Clothes            873955008\n",
       "Household          873928731\n",
       "Personal Care      873927157\n",
       "Snacks             873909657\n",
       "Cereal             873902157\n",
       "Beverages          873871231\n",
       "Baby Food          873860008\n",
       "Cosmetics          873853731\n",
       "Fruits             873805008\n",
       "Vegetables         873794657\n",
       "Name: Units Sold, dtype: int64"
      ]
     },
     "execution_count": 51,
     "metadata": {},
     "output_type": "execute_result"
    }
   ],
   "source": [
    "df.groupby('Item Type')['Units Sold'].sum().compute().sort_values(ascending=False)"
   ]
  },
  {
   "cell_type": "raw",
   "id": "d019258a-064e-4f17-8fea-cab0275d6e15",
   "metadata": {},
   "source": [
    "Key Insight: Most Sold Product Categories\n",
    "Office Supplies, Meat, and Clothes have the highest units sold.\n",
    "Fruits and Vegetables are the least sold items.\n",
    "However, Household items generated the most revenue, but ranked 4th in units sold → This means they have a higher unit price than other items.\n"
   ]
  },
  {
   "cell_type": "markdown",
   "id": "79ceace0-2887-4e16-b99e-e2f2a4963022",
   "metadata": {},
   "source": [
    " #### Yearly/Monthly Sales Trends"
   ]
  },
  {
   "cell_type": "code",
   "execution_count": 52,
   "id": "1a6bfdff-e0a5-4604-9f69-f275e169629c",
   "metadata": {},
   "outputs": [
    {
     "name": "stdout",
     "output_type": "stream",
     "text": [
      "Yearly Sales Trends:\n",
      "Year\n",
      "2014    2.607317e+11\n",
      "2015    2.609483e+11\n",
      "2016    2.615702e+11\n",
      "2017    2.608403e+11\n",
      "2018    2.608453e+11\n",
      "2019    2.608184e+11\n",
      "2020    2.615735e+11\n",
      "2021    2.607521e+11\n",
      "2022    2.608259e+11\n",
      "2023    2.608438e+11\n",
      "2024    1.815618e+11\n",
      "Name: Total Revenue, dtype: float64\n",
      "\n",
      "Monthly Sales Trends:\n",
      "Month\n",
      "1     2.438332e+11\n",
      "2     2.221350e+11\n",
      "3     2.437751e+11\n",
      "4     2.358520e+11\n",
      "5     2.437456e+11\n",
      "6     2.358213e+11\n",
      "7     2.434823e+11\n",
      "8     2.437347e+11\n",
      "9     2.216130e+11\n",
      "10    2.215326e+11\n",
      "11    2.143804e+11\n",
      "12    2.214061e+11\n",
      "Name: Total Revenue, dtype: float64\n"
     ]
    }
   ],
   "source": [
    "df['Year'] = df['Order Date'].dt.year\n",
    "df['Month'] = df['Order Date'].dt.month\n",
    "\n",
    "# Group by Year and Month to get total revenue\n",
    "yearly_sales = df.groupby('Year')['Total Revenue'].sum().compute()\n",
    "monthly_sales = df.groupby('Month')['Total Revenue'].sum().compute()\n",
    "\n",
    "# Print Results\n",
    "print(\"Yearly Sales Trends:\")\n",
    "print(yearly_sales)\n",
    "\n",
    "print(\"\\nMonthly Sales Trends:\")\n",
    "print(monthly_sales)"
   ]
  },
  {
   "cell_type": "raw",
   "id": "39db6916-321b-4822-84ef-38a7731ff4b8",
   "metadata": {},
   "source": [
    "📌 Yearly Sales Trends:\n",
    "\n",
    "2020 aur 2024 mein drop dikha raha hai compared to other years.\n",
    "2024 ka revenue abhi incomplete ho sakta hai (dataset update hote time ka check karo).\n",
    "📌 Monthly Sales Trends:\n",
    "\n",
    "January, March, May, July, August ka revenue high hai, aur November, December lowest hain – seasonal effect ho sakta hai."
   ]
  },
  {
   "cell_type": "markdown",
   "id": "1df785dc-1ab7-4d20-a6d3-d8615b4c70c2",
   "metadata": {},
   "source": [
    "#### Revenue vs. Units Sold Comparison"
   ]
  },
  {
   "cell_type": "code",
   "execution_count": 53,
   "id": "a02b59cc-35d6-4564-95a5-9964cbd19973",
   "metadata": {},
   "outputs": [
    {
     "name": "stdout",
     "output_type": "stream",
     "text": [
      "Revenue vs. Units Sold Comparison:\n",
      "                 Total Revenue  Units Sold\n",
      "Item Type                                 \n",
      "Baby Food         2.230790e+11   873860008\n",
      "Beverages         4.146519e+10   873871231\n",
      "Cereal            1.797617e+11   873902157\n",
      "Clothes           9.550580e+10   873955008\n",
      "Cosmetics         3.820489e+11   873853731\n",
      "Fruits            8.152601e+09   873805008\n",
      "Household         5.840204e+11   873928731\n",
      "Meat              3.687192e+11   873970008\n",
      "Office Supplies   5.691746e+11   874026231\n",
      "Personal Care     7.142607e+10   873927157\n",
      "Snacks            1.333411e+11   873909657\n",
      "Vegetables        1.346168e+11   873794657\n"
     ]
    }
   ],
   "source": [
    "# Group by Item Type to compare Revenue vs. Units Sold\n",
    "revenue_vs_units = df.groupby('Item Type')[['Total Revenue', 'Units Sold']].sum().compute()\n",
    "\n",
    "# Print Results\n",
    "print(\"Revenue vs. Units Sold Comparison:\")\n",
    "print(revenue_vs_units)\n"
   ]
  },
  {
   "cell_type": "markdown",
   "id": "4878b7eb-3c2e-4f0f-9445-0ee2a5a64285",
   "metadata": {},
   "source": [
    "📌 Revenue vs. Units Sold:\n",
    "\n",
    "Office Supplies aur Household items sabse zyada revenue generate kar rahe hain.\n",
    "Beverages ka revenue kaafi low hai, lekin units sold kaafi high hain – price per unit ka impact ho sakta hai."
   ]
  },
  {
   "cell_type": "markdown",
   "id": "35a95bf7-400c-48de-a027-10863eb50e4e",
   "metadata": {},
   "source": [
    "#### 2️⃣ Order Trends & Shipping Analysis\n",
    "#### 📌 Order Volume Over Time (Identify sales trends)\n",
    "#### Columns: Order Date, Order ID"
   ]
  },
  {
   "cell_type": "code",
   "execution_count": 103,
   "id": "e3161f34-6423-495d-bba0-f47b226413f7",
   "metadata": {},
   "outputs": [
    {
     "data": {
      "text/plain": [
       "Order Date\n",
       "2015    195970\n",
       "2023    195971\n",
       "2017    195970\n",
       "2022    195970\n",
       "2016    196508\n",
       "2019    195970\n",
       "2021    195971\n",
       "2018    195971\n",
       "2014    195970\n",
       "2024    136374\n",
       "2020    196507\n",
       "Name: Order ID, dtype: int64"
      ]
     },
     "execution_count": 103,
     "metadata": {},
     "output_type": "execute_result"
    }
   ],
   "source": [
    "df.groupby(df['Order Date'].dt.year)['Order ID'].nunique().compute()"
   ]
  },
  {
   "cell_type": "raw",
   "id": "9db00c04-4173-4820-a019-ea1fe7add437",
   "metadata": {},
   "source": [
    "he number of unique orders remained relatively stable from 2014 to 2023, with around 195970–196508 orders per year.\n",
    "2024 shows a significant drop (136,374 orders), which could indicate:\n",
    "Incomplete data for 2024 (if the dataset is not up-to-date).\n",
    "A decline in demand due to economic, seasonal, or business-related factors."
   ]
  },
  {
   "cell_type": "markdown",
   "id": "224c5118-c739-44ab-8792-845b73562dec",
   "metadata": {},
   "source": [
    "#### Average Delivery Time (How fast orders are shipped)\n",
    "#### Columns: Order Date, Ship Date"
   ]
  },
  {
   "cell_type": "code",
   "execution_count": 106,
   "id": "2d536a3d-3f89-4c71-809f-2bdc901ba35a",
   "metadata": {},
   "outputs": [
    {
     "data": {
      "text/plain": [
       "count    2.097152e+06\n",
       "mean     2.499999e+01\n",
       "std      1.471961e+01\n",
       "min      0.000000e+00\n",
       "25%      1.200000e+01\n",
       "50%      2.500000e+01\n",
       "75%      3.800000e+01\n",
       "max      5.000000e+01\n",
       "Name: Delivery Time, dtype: float64"
      ]
     },
     "execution_count": 106,
     "metadata": {},
     "output_type": "execute_result"
    }
   ],
   "source": [
    "df['Delivery Time'] = (df['Ship Date'] - df['Order Date']).dt.days\n",
    "df['Delivery Time'].describe().compute()"
   ]
  },
  {
   "cell_type": "markdown",
   "id": "1b533fc5-44b4-406b-8056-074fed3e2bf4",
   "metadata": {},
   "source": [
    "#### 3️⃣ Profitability Analysis\n",
    "#### 📌 Most Profitable Regions\n",
    "#### Columns: Region, Total Profit"
   ]
  },
  {
   "cell_type": "code",
   "execution_count": 107,
   "id": "88f4bc09-7d05-4d13-8e82-39769b0785ff",
   "metadata": {},
   "outputs": [
    {
     "data": {
      "text/plain": [
       "Region\n",
       "Sub-Saharan Africa                   2.136664e+11\n",
       "Europe                               2.136640e+11\n",
       "Asia                                 1.201891e+11\n",
       "Middle East and North Africa         1.023870e+11\n",
       "Central America and the Caribbean    8.903329e+10\n",
       "Australia and Oceania                6.676739e+10\n",
       "North America                        1.781476e+10\n",
       "Name: Total Profit, dtype: float64"
      ]
     },
     "execution_count": 107,
     "metadata": {},
     "output_type": "execute_result"
    }
   ],
   "source": [
    "df.groupby('Region')['Total Profit'].sum().compute().sort_values(ascending=False)"
   ]
  },
  {
   "cell_type": "markdown",
   "id": "3a3e98c3-f9b9-4287-8fc6-11a8f588af33",
   "metadata": {},
   "source": [
    "#### 📌 Least Profitable Products\n",
    "#### Columns: Item Type, Total Profit"
   ]
  },
  {
   "cell_type": "code",
   "execution_count": 108,
   "id": "06348ce0-a880-4d3e-932d-bff4b430423f",
   "metadata": {},
   "outputs": [
    {
     "data": {
      "text/plain": [
       "Item Type\n",
       "Fruits             2.105870e+09\n",
       "Beverages          1.368482e+10\n",
       "Personal Care      2.190061e+10\n",
       "Snacks             4.818738e+10\n",
       "Meat               4.999108e+10\n",
       "Vegetables         5.516266e+10\n",
       "Clothes            6.418326e+10\n",
       "Cereal             7.741899e+10\n",
       "Baby Food          8.376822e+10\n",
       "Office Supplies    1.103458e+11\n",
       "Household          1.448362e+11\n",
       "Cosmetics          1.519369e+11\n",
       "Name: Total Profit, dtype: float64"
      ]
     },
     "execution_count": 108,
     "metadata": {},
     "output_type": "execute_result"
    }
   ],
   "source": [
    "df.groupby('Item Type')['Total Profit'].sum().compute().sort_values()"
   ]
  },
  {
   "cell_type": "markdown",
   "id": "98dc1999-cfc9-4990-a64a-749d43653da9",
   "metadata": {},
   "source": [
    "### 4️⃣ High-Priority Orders Analysis\n",
    "#### 📌 How Many Orders Were High Priority?\n",
    "#### Columns: Order Priority, Order ID"
   ]
  },
  {
   "cell_type": "code",
   "execution_count": 109,
   "id": "b06ac475-800f-4b26-a229-96d22b939de6",
   "metadata": {},
   "outputs": [
    {
     "data": {
      "text/plain": [
       "Order Priority\n",
       "H    524288\n",
       "M    524288\n",
       "C    524288\n",
       "L    524288\n",
       "Name: count, dtype: int64[pyarrow]"
      ]
     },
     "execution_count": 109,
     "metadata": {},
     "output_type": "execute_result"
    }
   ],
   "source": [
    "df['Order Priority'].value_counts().compute()"
   ]
  },
  {
   "cell_type": "markdown",
   "id": "c4d1c5e7-e1e0-4ef2-a70f-da24a49a2c8c",
   "metadata": {},
   "source": [
    "#### 📌 Revenue from High-Priority Orders\n",
    "#### Columns: Order Priority, Total Revenue"
   ]
  },
  {
   "cell_type": "code",
   "execution_count": 110,
   "id": "8559968a-f951-4ecf-9dde-ccbfa224613b",
   "metadata": {},
   "outputs": [
    {
     "data": {
      "text/plain": [
       "Order Priority\n",
       "C    6.978260e+11\n",
       "H    6.977690e+11\n",
       "L    6.978401e+11\n",
       "M    6.978762e+11\n",
       "Name: Total Revenue, dtype: float64"
      ]
     },
     "execution_count": 110,
     "metadata": {},
     "output_type": "execute_result"
    }
   ],
   "source": [
    "df.groupby('Order Priority')['Total Revenue'].sum().compute()"
   ]
  },
  {
   "cell_type": "markdown",
   "id": "acf5dd77-b729-4984-b7ec-d4d2096c83ec",
   "metadata": {},
   "source": [
    "### 5️⃣ Cost Analysis (Expense Breakdown)\n",
    "#### 📌 Highest Cost Countries\n",
    "#### Columns: Country, Total Cost"
   ]
  },
  {
   "cell_type": "code",
   "execution_count": 111,
   "id": "237ccd84-6b4d-4fd0-9420-74ce11037dae",
   "metadata": {},
   "outputs": [
    {
     "data": {
      "text/plain": [
       "Country\n",
       "Turkey         1.066795e+10\n",
       "Iceland        1.066585e+10\n",
       "Luxembourg     1.066388e+10\n",
       "Tanzania       1.066281e+10\n",
       "Philippines    1.066212e+10\n",
       "Name: Total Cost, dtype: float64"
      ]
     },
     "execution_count": 111,
     "metadata": {},
     "output_type": "execute_result"
    }
   ],
   "source": [
    "df.groupby('Country')['Total Cost'].sum().compute().sort_values(ascending=False).head(5)"
   ]
  },
  {
   "cell_type": "markdown",
   "id": "135ed253-a095-4659-8dd5-b4014ca03205",
   "metadata": {},
   "source": [
    "#### 📌 Average Cost Per Order\n",
    "#### Columns: Total Cost, Order ID"
   ]
  },
  {
   "cell_type": "code",
   "execution_count": 112,
   "id": "5f41c805-fec8-4d78-8e60-03789fdcd65a",
   "metadata": {},
   "outputs": [
    {
     "data": {
      "text/plain": [
       "938315.1176870966"
      ]
     },
     "execution_count": 112,
     "metadata": {},
     "output_type": "execute_result"
    }
   ],
   "source": [
    "df['Total Cost'].sum().compute() / df['Order ID'].nunique().compute()"
   ]
  },
  {
   "cell_type": "code",
   "execution_count": null,
   "id": "b79e002f-3c2d-4239-8451-fe963cb70104",
   "metadata": {},
   "outputs": [],
   "source": []
  }
 ],
 "metadata": {
  "kernelspec": {
   "display_name": "Python 3 (ipykernel)",
   "language": "python",
   "name": "python3"
  },
  "language_info": {
   "codemirror_mode": {
    "name": "ipython",
    "version": 3
   },
   "file_extension": ".py",
   "mimetype": "text/x-python",
   "name": "python",
   "nbconvert_exporter": "python",
   "pygments_lexer": "ipython3",
   "version": "3.12.4"
  }
 },
 "nbformat": 4,
 "nbformat_minor": 5
}
